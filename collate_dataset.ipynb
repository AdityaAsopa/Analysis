{
 "cells": [
  {
   "cell_type": "code",
   "execution_count": null,
   "id": "6d2f6de5",
   "metadata": {},
   "outputs": [],
   "source": [
    "import os\n",
    "from pathlib import Path\n",
    "import importlib\n",
    "import numpy as np\n",
    "import pandas as pd\n",
    "import seaborn as sns\n",
    "import matplotlib\n",
    "%matplotlib inline\n",
    "import matplotlib.pyplot as plt\n",
    "from scipy import signal\n",
    "\n",
    "\n",
    "%matplotlib widget\n",
    "sns.set_context('talk')\n",
    "\n",
    "%tb\n",
    "from eidynamics import utils, data_quality_checks, ephys_classes\n",
    "import analysis\n",
    "import all_cells\n"
   ]
  },
  {
   "cell_type": "markdown",
   "id": "e73afd96",
   "metadata": {},
   "source": [
    "Make a table of all experiments on all cells"
   ]
  },
  {
   "cell_type": "code",
   "execution_count": null,
   "id": "09f53389",
   "metadata": {},
   "outputs": [],
   "source": [
    "import collate_dataset\n",
    "importlib.reload(collate_dataset)"
   ]
  },
  {
   "cell_type": "code",
   "execution_count": null,
   "id": "c4850aea",
   "metadata": {},
   "outputs": [],
   "source": [
    "collate_dataset.main()"
   ]
  },
  {
   "cell_type": "code",
   "execution_count": null,
   "id": "b034a061",
   "metadata": {},
   "outputs": [],
   "source": []
  },
  {
   "cell_type": "code",
   "execution_count": null,
   "id": "fd31e720",
   "metadata": {},
   "outputs": [],
   "source": [
    "all_cell_data = []\n",
    "sweeps = []\n",
    "\n",
    "cell_set = all_cells.all_cells\n",
    "\n",
    "project_path_root = Path( r\"\\\\storage.ncbs.res.in\\adityaa\\\\\" )\n",
    "\n",
    "for cell in cell_set:\n",
    "    cellpath = project_path_root / cell\n",
    "    # cellpath = cell\n",
    "    cellID = cellpath.stem\n",
    "    cellpickle = cellpath / (str(cellID) + \".pkl\")\n",
    "    print(cellpickle)\n",
    "\n",
    "    neuron = ephys_classes.Neuron.loadCell(cellpickle)\n",
    "    neuron_data = neuron.data\n",
    "\n",
    "    all_cell_data.append(neuron_data)\n",
    "    sweeps.append(neuron_data.shape[0])\n",
    "\n",
    "\n",
    "all_expt = pd.concat(all_cell_data, ignore_index=True, axis=0) \n",
    "# del cell_set, cellID, cellpath, cellpickle, neuron_data, _ss, all_cell_data, sweeps, neuron, led, peak_props, first_pulse_start, res_traces, expt_ids, expt_idxs, i, j,    \n",
    "# # all_expt.to_hdf('all_expt_data.h5', format='fixed', key='data', mode='w')"
   ]
  },
  {
   "cell_type": "code",
   "execution_count": null,
   "id": "180a27aa",
   "metadata": {},
   "outputs": [],
   "source": [
    "df3 = all_expt.iloc[:,:29]"
   ]
  },
  {
   "cell_type": "markdown",
   "id": "419495dc",
   "metadata": {},
   "source": [
    "# CC Cells"
   ]
  },
  {
   "cell_type": "markdown",
   "id": "6cedceb0",
   "metadata": {},
   "source": [
    "### Fig 1: CC | [expt_seq vs first-pulse-response] X cell_ID\n",
    "Does the first pulse response decrease during an experiment session on a cell?\n",
    "\n",
    "An experiment session consists of an array of experiments done on the cell with every experiment corresponding to one protocol (one stim frequency)\n",
    "\n",
    "Observation: Across all the patterns, as the session progresses, the EPSP response of the cell to the optical stimulation decreases."
   ]
  },
  {
   "cell_type": "code",
   "execution_count": null,
   "id": "70ee73db",
   "metadata": {},
   "outputs": [],
   "source": [
    "plt.close('all')\n",
    "# plt.figure()\n",
    "df_subset = df3.loc[ (df3[\"Clamp\"]== 0.0)  & (df3[\"intensity\"]== 100.0) & (df3[\"pulseWidth\"]== 2.0) & (df3[\"AP\"]== 0.0) & (df3[\"patternID\"] < 56) & (df3[\"GABAzineFlag\"]== 0.0) & (df3[\"numSq\"]>= 1.0)].copy() \n",
    "cat = sns.catplot(data=df_subset, y='firstpeakres', x='expt_seq', hue='numSq', col='cellID', col_wrap=5, palette='viridis', kind='point', markers=[\"^\", \"o\", \"s\"] ) #  \n",
    "cat.fig.suptitle('CC | [expt_seq vs first-pulse-response] X cell_ID | Control, Intensity=100%, Pulse Width = 2ms')\n",
    "cat.fig.subplots_adjust(top=.9)\n",
    "plt.show()"
   ]
  },
  {
   "cell_type": "markdown",
   "id": "b72bf933",
   "metadata": {},
   "source": [
    "### Fig 2: CC | [Expt sequence vs IR ] x Cell_ID\n",
    "Does the input resistance of the cell change during an experiment session on a cell?\n",
    "\n",
    "An experiment session consists of an array of experiments done on the cell with every experiment corresponding to one protocol (one stim frequency)\n"
   ]
  },
  {
   "cell_type": "code",
   "execution_count": null,
   "id": "6b0d18bf",
   "metadata": {},
   "outputs": [],
   "source": [
    "plt.close('all')\n",
    "plt.figure()\n",
    "df_subset = df3.loc[ (df3[\"Clamp\"]== 0.0) & (df3[\"GABAzineFlag\"]== 0.0) & (df3[\"intensity\"]== 100.0) & (df3[\"pulseWidth\"]== 2.0)   & (df3[\"patternID\"] < 56) ].copy()\n",
    "cat = sns.catplot(data=df_subset, y='InputRes', x='expt_seq', hue='numSq', col='cellID', palette='viridis', col_wrap=5, kind='point', markers=[\"^\", \"o\", \"s\"] )\n",
    "cat.fig.suptitle('CC | [expt_seq vs Input Resistance (MOhm)] X cell_ID | Control, Intensity=100%, Pulse Width = 2ms')\n",
    "cat.fig.subplots_adjust(top=.9)\n",
    "plt.show()"
   ]
  },
  {
   "cell_type": "markdown",
   "id": "4834edc1",
   "metadata": {},
   "source": [
    "### Fig 3: CC | [Expt sequence vs Tau ] x Cell_ID\n",
    "Does the Tau of the cell change during an experiment session on a cell?\n",
    "\n",
    "An experiment session consists of an array of experiments done on the cell with every experiment corresponding to one protocol (one stim frequency)\n"
   ]
  },
  {
   "cell_type": "code",
   "execution_count": null,
   "id": "b8730a23",
   "metadata": {},
   "outputs": [],
   "source": [
    "plt.close('all')\n",
    "plt.figure()\n",
    "df_subset = df3.loc[ (df3[\"Clamp\"]== 0.0) & (df3[\"GABAzineFlag\"]== 0.0) & (df3[\"intensity\"]== 100.0) & (df3[\"pulseWidth\"]== 2.0)   & (df3[\"patternID\"] < 56) ].copy() \n",
    "df_subset.loc[:,\"Tau\"] *= 1000\n",
    "cat = sns.catplot(data=df_subset, y='Tau', x='expt_seq', hue='numSq', col='cellID', palette='viridis', col_wrap=5, kind='point', markers=[\"^\", \"o\", \"s\"] )\n",
    "cat.fig.suptitle('CC | [expt_seq vs Tau (ms)] X cell_ID | Control, Intensity=100%, Pulse Width = 2ms')\n",
    "cat.fig.subplots_adjust(top=.9)\n",
    "plt.show()"
   ]
  },
  {
   "cell_type": "markdown",
   "id": "4cd1720e",
   "metadata": {},
   "source": [
    "### Fig 4: CC | [Expt sequence vs Baseline (mV) ] x Cell_ID\n",
    "Does the Vm of the cell change during an experiment session on a cell?\n",
    "\n",
    "An experiment session consists of an array of experiments done on the cell with every experiment corresponding to one protocol (one stim frequency)\n"
   ]
  },
  {
   "cell_type": "code",
   "execution_count": null,
   "id": "678053eb",
   "metadata": {},
   "outputs": [],
   "source": [
    "plt.close('all')\n",
    "plt.figure()\n",
    "df_subset = df3.loc[ (df3[\"Clamp\"]== 0.0) & (df3[\"GABAzineFlag\"]== 0.0) & (df3[\"intensity\"]== 100.0) & (df3[\"pulseWidth\"]== 2.0)   & (df3[\"patternID\"] < 56) ].copy() \n",
    "df_subset.loc[:,\"Tau\"] *= 1000\n",
    "cat = sns.catplot(data=df_subset, y='MeanBaseline', x='expt_seq', hue='numSq', col='cellID', palette='viridis', col_wrap=5, kind='point', markers=[\"^\", \"o\", \"s\"] )\n",
    "cat.fig.suptitle('CC | [expt_seq vs Baseline (mV)] X cell_ID | Control, Intensity=100%, Pulse Width = 2ms')\n",
    "cat.fig.subplots_adjust(top=.9)\n",
    "plt.show()"
   ]
  },
  {
   "cell_type": "markdown",
   "id": "dc592038",
   "metadata": {},
   "source": [
    "# VC Cells"
   ]
  },
  {
   "cell_type": "markdown",
   "id": "6cedceb0",
   "metadata": {},
   "source": [
    "### Fig 5: VC | [Expt sequence vs first-pulse-response x EI ] x numSq x_cellID\n",
    "Does the first pulse response decrease during an experiment session on a cell?\n",
    "\n",
    "An experiment session consists of an array of experiments done on the cell with every experiment corresponding to one protocol (one stim frequency)\n",
    "\n",
    "Observation: Across all the patterns, as the session progresses, the EPSP response of the cell to the optical stimulation decreases."
   ]
  },
  {
   "cell_type": "code",
   "execution_count": null,
   "id": "70ee73db",
   "metadata": {},
   "outputs": [],
   "source": [
    "plt.close('all')\n",
    "# plt.figure()\n",
    "df_subset = df3.loc[ (df3[\"Clamp\"]== 1.0)  & (df3[\"intensity\"]== 100.0) & (df3[\"pulseWidth\"]== 2.0) & (df3[\"AP\"]== 0.0) & (df3[\"patternID\"] < 56) & (df3[\"GABAzineFlag\"]== 0.0) & (df3[\"numSq\"]>= 1.0)].copy() \n",
    "cat = sns.catplot(data=df_subset, y='firstpeakres', x='expt_seq', hue='ClampingPotl', col='cellID', row='numSq', palette='viridis', kind='strip')#, markers=[\"^\", \"o\", \"s\"] ) #  \n",
    "cat.fig.suptitle('VC | [expt_seq vs first-pulse-response x E/I ] X numSq x cell_ID | Control, Intensity=100%, Pulse Width=2ms')\n",
    "cat.fig.subplots_adjust(top=.9)\n",
    "plt.show()"
   ]
  },
  {
   "cell_type": "markdown",
   "id": "b72bf933",
   "metadata": {},
   "source": [
    "### Fig 2: VC | [Expt sequence vs series resistance x EI ] x numSq x_cellID\n",
    "Does the input resistance of the cell change during an experiment session on a cell?\n",
    "\n",
    "An experiment session consists of an array of experiments done on the cell with every experiment corresponding to one protocol (one stim frequency)\n"
   ]
  },
  {
   "cell_type": "code",
   "execution_count": null,
   "id": "6b0d18bf",
   "metadata": {},
   "outputs": [],
   "source": [
    "plt.close('all')\n",
    "# plt.figure()\n",
    "df_subset = df3.loc[ (df3[\"Clamp\"]== 1.0) & (df3[\"GABAzineFlag\"]== 0.0) & (df3[\"intensity\"]== 100.0) & (df3[\"pulseWidth\"]== 2.0)   & (df3[\"patternID\"] < 56) & (df3[\"Tau\"] < 100) & (df3[\"Tau\"] > 0.0)].copy()\n",
    "cat = sns.catplot(data=df_subset, y='Tau', x='expt_seq', hue='numSq', col='cellID', palette='viridis', col_wrap=5, kind='point', markers=[\"^\", \"o\", \"s\"])\n",
    "cat.fig.suptitle('VC | [expt_seq vs Series Resistance (MOhm)] X cell_ID | Control, Intensity=100%, Pulse Width = 2ms')\n",
    "cat.fig.subplots_adjust(top=.9)\n",
    "plt.show()"
   ]
  },
  {
   "cell_type": "markdown",
   "id": "4834edc1",
   "metadata": {},
   "source": [
    "### Fig 3: CC | [Expt sequence vs Tau ] x Cell_ID\n",
    "Does the Tau of the cell change during an experiment session on a cell?\n",
    "\n",
    "An experiment session consists of an array of experiments done on the cell with every experiment corresponding to one protocol (one stim frequency)\n"
   ]
  },
  {
   "cell_type": "code",
   "execution_count": null,
   "id": "b8730a23",
   "metadata": {},
   "outputs": [],
   "source": [
    "plt.close('all')\n",
    "plt.figure()\n",
    "df_subset = df3.loc[ (df3[\"Clamp\"]== 1.0) & (df3[\"GABAzineFlag\"]== 0.0) & (df3[\"intensity\"]== 100.0) & (df3[\"pulseWidth\"]== 2.0)   & (df3[\"patternID\"] < 56) ].copy() \n",
    "df_subset.loc[:,\"Tau\"] *= 1000\n",
    "cat = sns.catplot(data=df_subset, y='Tau', x='expt_seq', hue='numSq', col='cellID', palette='viridis', col_wrap=5, kind='point', markers=[\"^\", \"o\", \"s\"] )\n",
    "cat.fig.suptitle('CC | [expt_seq vs Tau (ms)] X cell_ID | Control, Intensity=100%, Pulse Width = 2ms')\n",
    "cat.fig.subplots_adjust(top=.9)\n",
    "plt.show()"
   ]
  },
  {
   "cell_type": "markdown",
   "id": "4cd1720e",
   "metadata": {},
   "source": [
    "### Fig 4: CC | [Expt sequence vs Baseline (mV) ] x Cell_ID\n",
    "Does the Vm of the cell change during an experiment session on a cell?\n",
    "\n",
    "An experiment session consists of an array of experiments done on the cell with every experiment corresponding to one protocol (one stim frequency)\n"
   ]
  },
  {
   "cell_type": "code",
   "execution_count": null,
   "id": "678053eb",
   "metadata": {},
   "outputs": [],
   "source": [
    "plt.close('all')\n",
    "plt.figure()\n",
    "df_subset = df3.loc[ (df3[\"Clamp\"]== 1.0) & (df3[\"GABAzineFlag\"]== 0.0) & (df3[\"intensity\"]== 100.0) & (df3[\"pulseWidth\"]== 2.0)   & (df3[\"patternID\"] < 56) ].copy() \n",
    "df_subset.loc[:,\"Tau\"] *= 1000\n",
    "cat = sns.catplot(data=df_subset, y='MeanBaseline', x='expt_seq', hue='numSq', col='cellID', palette='viridis', col_wrap=5, kind='point', markers=[\"^\", \"o\", \"s\"] )\n",
    "cat.fig.suptitle('CC | [expt_seq vs Baseline (mV)] X cell_ID | Control, Intensity=100%, Pulse Width = 2ms')\n",
    "cat.fig.subplots_adjust(top=.9)\n",
    "plt.show()"
   ]
  },
  {
   "cell_type": "code",
   "execution_count": null,
   "id": "da2b6cc3",
   "metadata": {},
   "outputs": [],
   "source": [
    "def plot_cell_prop(df3, cellid, prop):\n",
    "    plt.close('all')\n",
    "\n",
    "    df_test = df3.loc[(df3[\"cellID\"] == cellid)]\n",
    "    sns.catplot(data=df_test, x='expt_seq', y=prop, hue='numSq', col='exptID', col_wrap=5, kind='point' )\n",
    "    figpath = Path(r\"\\\\storage.ncbs.res.in\\adityaa\\Lab\\Projects\\EI_Dynamics\\AnalysisFiles\\all_cells_tau_19May22\\\\\")\n",
    "    plt.savefig(figpath / ('cc_' + str(cellid) + '_' + prop + '.png'))"
   ]
  },
  {
   "cell_type": "code",
   "execution_count": null,
   "id": "d696a808",
   "metadata": {},
   "outputs": [],
   "source": [
    "df_CC = df3.loc[(df3[\"Clamp\"]== 0.0)]\n",
    "cc_cells =  list(pd.unique(df_CC[\"cellID\"]))\n",
    "for ccell in cc_cells:\n",
    "    for p in ['firstpeakres']:\n",
    "        print(ccell, p)\n",
    "        plot_cell_prop(df3, ccell, p)\n",
    "plt.close('all')"
   ]
  },
  {
   "cell_type": "code",
   "execution_count": null,
   "id": "317bf325",
   "metadata": {},
   "outputs": [],
   "source": [
    "plt.close('all')\n",
    "df_cc = df3.loc[(df3[\"Clamp\"]== 0.0)]\n",
    "\n",
    "sns.catplot(data=df_cc, x='sweep', y=prop, hue=, col='expt_seq', col_wrap=5, kind='point' )\n",
    "figpath = Path(r\"\\\\storage.ncbs.res.in\\adityaa\\Lab\\Projects\\EI_Dynamics\\AnalysisFiles\\all_cells_tau_19May22\\\\\")\n",
    "plt.savefig(figpath / ('cc_' + str(cellid) + '_' + prop + '.png'))"
   ]
  },
  {
   "cell_type": "markdown",
   "id": "a787e2d6",
   "metadata": {},
   "source": [
    "### Fig. 2: CC Within-experiment Sweep vs Peak Response of first pulse\n",
    "\n",
    "Observation: Within a single experiment, across all cells, and across all experiments, first pulse response does not differ significantly for 3 repeats\n"
   ]
  },
  {
   "cell_type": "code",
   "execution_count": null,
   "id": "ea173e3a",
   "metadata": {},
   "outputs": [],
   "source": []
  },
  {
   "cell_type": "code",
   "execution_count": null,
   "id": "0d0322c2",
   "metadata": {},
   "outputs": [],
   "source": [
    "plt.close('all')\n",
    "# plt.figure()\n",
    "df_subset = df3.loc[ (df3[\"Clamp\"]== 0.0) & (df3[\"ClampingPotl\"]== -70.0) & (df3[\"AP\"]== 0.0) & (df3[\"GABAzineFlag\"]== 0.0) & (df3[\"intensity\"]== 100.0) & (df3[\"pulseWidth\"]== 2.0) & (df3[\"numSq\"]> 2.0) & (df3[\"patternID\"] < 56) ]\n",
    "cat = sns.catplot(data=df_subset, y='firstpeakres', x='sweep', hue='numSq', col='patternID', palette='viridis', col_wrap=4, kind='point', )#join=True)#, markers=[\"^\", \"o\"], linestyles=['-','--'])\n",
    "cat.fig.suptitle('Response to first pulse (mV) progression with sweeps across patterns in CC recordings')\n",
    "cat.fig.subplots_adjust(top=.9)\n",
    "# plt.show()"
   ]
  },
  {
   "cell_type": "markdown",
   "id": "c9421b9f",
   "metadata": {},
   "source": [
    "### Fig. 3: Input resistance across experiment session\n",
    "\n",
    "Observation: Continuous decline in IR"
   ]
  },
  {
   "cell_type": "code",
   "execution_count": null,
   "id": "73f150b8",
   "metadata": {},
   "outputs": [],
   "source": [
    "plt.close('all')\n",
    "# plt.figure()\n",
    "df_subset = df3.loc[ (df3[\"Clamp\"]== 0.0) & (df3[\"ClampingPotl\"]== -70.0) & (df3[\"AP\"]== 0.0) & (df3[\"intensity\"]== 100.0) & (df3[\"pulseWidth\"]== 2.0) & (df3[\"numSq\"]> 2.0) & (df3[\"patternID\"] < 56) ]\n",
    "cat = sns.catplot(data=df_subset, y='InputRes', x='expt_seq', palette='viridis', kind='point', )#join=True)#, markers=[\"^\", \"o\"], linestyles=['-','--'])\n",
    "cat.fig.suptitle('CC: Input resistance of the Cell (MOhm) in the experiment session')\n",
    "cat.fig.subplots_adjust(top=.9)\n"
   ]
  },
  {
   "cell_type": "markdown",
   "id": "3de5968c",
   "metadata": {},
   "source": [
    "### Fig 4: CC Input Resistance progression long the experiment session\n",
    "\n",
    "Observation: IR decreases consistently as the session porgresses"
   ]
  },
  {
   "cell_type": "code",
   "execution_count": null,
   "id": "e5db2f8c",
   "metadata": {},
   "outputs": [],
   "source": [
    "plt.close('all')\n",
    "# plt.figure()\n",
    "df_subset = df3.loc[ (df3[\"Clamp\"]== 0.0) & (df3[\"ClampingPotl\"]== -70.0) & (df3[\"AP\"]== 0.0) & (df3[\"intensity\"]== 100.0) & (df3[\"pulseWidth\"]== 2.0) & (df3[\"numSq\"]> 2.0) & (df3[\"patternID\"] < 56) ]\n",
    "cat = sns.catplot(data=df_subset, y='InputRes', x='sweep', palette='viridis', hue='expt_seq', kind='point', col='expt_seq', col_wrap=4 )#join=True)#, markers=[\"^\", \"o\"], linestyles=['-','--'])\n",
    "cat.fig.suptitle('CC: Input resistance of the Cell (MOhm) vs Sweeps')\n",
    "cat.fig.subplots_adjust(top=.9)"
   ]
  },
  {
   "cell_type": "code",
   "execution_count": null,
   "id": "b82f82b2",
   "metadata": {},
   "outputs": [],
   "source": []
  }
 ],
 "metadata": {
  "kernelspec": {
   "display_name": "venv-ephys",
   "language": "python",
   "name": "venv-ephys"
  },
  "language_info": {
   "codemirror_mode": {
    "name": "ipython",
    "version": 3
   },
   "file_extension": ".py",
   "mimetype": "text/x-python",
   "name": "python",
   "nbconvert_exporter": "python",
   "pygments_lexer": "ipython3",
   "version": "3.7.9 (tags/v3.7.9:13c94747c7, Aug 17 2020, 18:58:18) [MSC v.1900 64 bit (AMD64)]"
  }
 },
 "nbformat": 4,
 "nbformat_minor": 5
}
