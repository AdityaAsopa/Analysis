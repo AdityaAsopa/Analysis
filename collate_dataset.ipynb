{
 "cells": [
  {
   "cell_type": "code",
   "execution_count": 3,
   "id": "6d2f6de5",
   "metadata": {},
   "outputs": [
    {
     "name": "stderr",
     "output_type": "stream",
     "text": [
      "No traceback available to show.\n"
     ]
    }
   ],
   "source": [
    "import os\n",
    "from pathlib import Path\n",
    "import importlib\n",
    "import numpy as np\n",
    "import pandas as pd\n",
    "import seaborn as sns\n",
    "import matplotlib\n",
    "%matplotlib inline\n",
    "import matplotlib.pyplot as plt\n",
    "from scipy import signal\n",
    "\n",
    "\n",
    "%matplotlib widget\n",
    "sns.set_context('talk')\n",
    "\n",
    "%tb\n",
    "from eidynamics import utils, data_quality_checks, ephys_classes\n",
    "import parse_data\n",
    "import all_cells\n",
    "import collate_dataset\n"
   ]
  },
  {
   "attachments": {},
   "cell_type": "markdown",
   "id": "e73afd96",
   "metadata": {},
   "source": [
    "Make a table of all experiments on all cells"
   ]
  },
  {
   "attachments": {},
   "cell_type": "markdown",
   "id": "c4850aea",
   "metadata": {},
   "source": [
    "collate_dataset.main()"
   ]
  },
  {
   "cell_type": "code",
   "execution_count": 3,
   "id": "669183de-f914-4475-add1-a597caf4bea0",
   "metadata": {},
   "outputs": [],
   "source": [
    "all_cells_paths= [\n",
    "r\"C:\\Users\\adity\\OneDrive\\NCBS\\Lab\\Projects\\EI_Dynamics\\Data\\21-12-15_G562\\5621\\5621.pkl\",\n",
    "r\"C:\\Users\\adity\\OneDrive\\NCBS\\Lab\\Projects\\EI_Dynamics\\Data\\21-12-16_G550\\5502\\5502.pkl\",\n",
    "r\"C:\\Users\\adity\\OneDrive\\NCBS\\Lab\\Projects\\EI_Dynamics\\Data\\21-12-16_G550\\5501\\5501.pkl\",\n",
    "r\"C:\\Users\\adity\\OneDrive\\NCBS\\Lab\\Projects\\EI_Dynamics\\Data\\21-12-28_G630\\6301\\6301.pkl\",\n",
    "r\"C:\\Users\\adity\\OneDrive\\NCBS\\Lab\\Projects\\EI_Dynamics\\Data\\21-12-31_G620\\6201\\6201.pkl\",\n",
    "r\"C:\\Users\\adity\\OneDrive\\NCBS\\Lab\\Projects\\EI_Dynamics\\Data\\22-04-18_G749\\7491\\7491.pkl\",\n",
    "r\"C:\\Users\\adity\\OneDrive\\NCBS\\Lab\\Projects\\EI_Dynamics\\Data\\22-04-18_G749\\7492\\7492.pkl\",\n",
    "r\"C:\\Users\\adity\\OneDrive\\NCBS\\Lab\\Projects\\EI_Dynamics\\Data\\22-06-01_GrikAA011\\111\\111.pkl\",\n",
    "r\"C:\\Users\\adity\\OneDrive\\NCBS\\Lab\\Projects\\EI_Dynamics\\Data\\22-09-20_GrikAA162\\1621\\1621.pkl\",\n",
    "r\"C:\\Users\\adity\\OneDrive\\NCBS\\Lab\\Projects\\EI_Dynamics\\Data\\22-10-03_GrikAA153\\1531\\1531.pkl\",\n",
    "r\"C:\\Users\\adity\\OneDrive\\NCBS\\Lab\\Projects\\EI_Dynamics\\Data\\22-10-04_GrikAA152\\1522\\1522.pkl\",\n",
    "r\"C:\\Users\\adity\\OneDrive\\NCBS\\Lab\\Projects\\EI_Dynamics\\Data\\22-10-04_GrikAA152\\1523\\1523.pkl\",\n",
    "r\"C:\\Users\\adity\\OneDrive\\NCBS\\Lab\\Projects\\EI_Dynamics\\Data\\22-10-04_GrikAA152\\1524\\1524.pkl\",\n",
    "r\"C:\\Users\\adity\\OneDrive\\NCBS\\Lab\\Projects\\EI_Dynamics\\Data\\22-10-05_GrikAA154\\1541\\1541.pkl\",\n",
    "r\"C:\\Users\\adity\\OneDrive\\NCBS\\Lab\\Projects\\EI_Dynamics\\Data\\22-10-13_GrikAA149\\1491\\1491.pkl\",\n",
    "r\"C:\\Users\\adity\\OneDrive\\NCBS\\Lab\\Projects\\EI_Dynamics\\Data\\22-10-21_GrikAA194\\1941\\1941.pkl\",\n",
    "r\"C:\\Users\\adity\\OneDrive\\NCBS\\Lab\\Projects\\EI_Dynamics\\Data\\22-11-02_GrikAA193\\1931\\1931.pkl\",\n",
    "r\"C:\\Users\\adity\\OneDrive\\NCBS\\Lab\\Projects\\EI_Dynamics\\Data\\22-12-16_GrikAA198\\1981\\1981.pkl\",\n",
    "r\"C:\\Users\\adity\\OneDrive\\NCBS\\Lab\\Projects\\EI_Dynamics\\Data\\23-06-07_GikeAA313\\3131.pkl\",\n",
    "r\"C:\\Users\\adity\\OneDrive\\NCBS\\Lab\\Projects\\EI_Dynamics\\Data\\23-05-23_GrikAA310\\3101\\3101.pkl\",\n",
    "r\"C:\\Users\\adity\\OneDrive\\NCBS\\Lab\\Projects\\EI_Dynamics\\Data\\21-03-04_G233\\2331\\2331.pkl\",\n",
    "r\"C:\\Users\\adity\\OneDrive\\NCBS\\Lab\\Projects\\EI_Dynamics\\Data\\21-03-06_G234\\2342\\2342.pkl\",\n",
    "r\"C:\\Users\\adity\\OneDrive\\NCBS\\Lab\\Projects\\EI_Dynamics\\Data\\21-03-06_G234\\2341\\2341.pkl\",\n",
    "r\"C:\\Users\\adity\\OneDrive\\NCBS\\Lab\\Projects\\EI_Dynamics\\Data\\21-04-02_G250\\2501\\2501.pkl\",\n",
    "r\"C:\\Users\\adity\\OneDrive\\NCBS\\Lab\\Projects\\EI_Dynamics\\Data\\21-04-01_G251\\2511\\2511.pkl\",\n",
    "r\"C:\\Users\\adity\\OneDrive\\NCBS\\Lab\\Projects\\EI_Dynamics\\Data\\21-04-16_G294\\2941\\2941.pkl\",\n",
    "r\"C:\\Users\\adity\\OneDrive\\NCBS\\Lab\\Projects\\EI_Dynamics\\Data\\21-05-12_G319\\3192\\3192.pkl\",\n",
    "r\"C:\\Users\\adity\\OneDrive\\NCBS\\Lab\\Projects\\EI_Dynamics\\Data\\21-05-18_G320\\3201\\3201.pkl\",\n",
    "r\"C:\\Users\\adity\\OneDrive\\NCBS\\Lab\\Projects\\EI_Dynamics\\Data\\21-06-09_G337\\3373\\3373.pkl\",\n",
    "r\"C:\\Users\\adity\\OneDrive\\NCBS\\Lab\\Projects\\EI_Dynamics\\Data\\21-06-04_G340\\3401\\3401.pkl\",\n",
    "r\"C:\\Users\\adity\\OneDrive\\NCBS\\Lab\\Projects\\EI_Dynamics\\Data\\21-06-04_G340\\3402\\3402.pkl\",\n",
    "r\"C:\\Users\\adity\\OneDrive\\NCBS\\Lab\\Projects\\EI_Dynamics\\Data\\21-07-09_G353\\3531\\3531.pkl\",\n",
    "r\"C:\\Users\\adity\\OneDrive\\NCBS\\Lab\\Projects\\EI_Dynamics\\Data\\21-08-10_G378\\3781\\3781.pkl\",\n",
    "r\"C:\\Users\\adity\\OneDrive\\NCBS\\Lab\\Projects\\EI_Dynamics\\Data\\21-08-11_G379\\3791\\3791.pkl\",\n",
    "r\"C:\\Users\\adity\\OneDrive\\NCBS\\Lab\\Projects\\EI_Dynamics\\Data\\21-07-30_G387\\3871\\3871.pkl\",\n",
    "r\"C:\\Users\\adity\\OneDrive\\NCBS\\Lab\\Projects\\EI_Dynamics\\Data\\21-07-30_G387\\3872\\3872.pkl\",\n",
    "r\"C:\\Users\\adity\\OneDrive\\NCBS\\Lab\\Projects\\EI_Dynamics\\Data\\21-07-29_G388\\3882\\3882.pkl\",\n",
    "r\"C:\\Users\\adity\\OneDrive\\NCBS\\Lab\\Projects\\EI_Dynamics\\Data\\21-09-07_G521\\5211\\5211.pkl\",\n",
    "r\"C:\\Users\\adity\\OneDrive\\NCBS\\Lab\\Projects\\EI_Dynamics\\Data\\21-09-07_G521\\5212\\5212.pkl\",\n",
    "r\"C:\\Users\\adity\\OneDrive\\NCBS\\Lab\\Projects\\EI_Dynamics\\Data\\21-09-23_G529\\5291\\5291.pkl\",\n",
    "r\"C:\\Users\\adity\\OneDrive\\NCBS\\Lab\\Projects\\EI_Dynamics\\Data\\21-11-10_G561\\5611\\5611.pkl\"    ,\n",
    "]"
   ]
  },
  {
   "cell_type": "code",
   "execution_count": 4,
   "id": "3e710897",
   "metadata": {},
   "outputs": [],
   "source": [
    "def save_df_to_h5(df, protocol='FreqSweep'):\n",
    "    dfcc = df[ df['clampMode']=='CC']\n",
    "    dfvc = df[ df['clampMode']=='VC']\n",
    "\n",
    "    ccfilename = \"all_cells_\" + protocol + '_CC.h5'\n",
    "    vcfilename = \"all_cells_\" + protocol + '_VC.h5'\n",
    "\n",
    "    dfcc.to_hdf(ccfilename, format='fixed', key='data', mode='w')\n",
    "    dfvc.to_hdf(vcfilename, format='fixed', key='data', mode='w')\n"
   ]
  },
  {
   "cell_type": "code",
   "execution_count": 7,
   "id": "fd31e720",
   "metadata": {
    "tags": []
   },
   "outputs": [
    {
     "name": "stdout",
     "output_type": "stream",
     "text": [
      "Cell object loaded from file:  C:\\Users\\adity\\OneDrive\\NCBS\\Lab\\Projects\\EI_Dynamics\\Data\\21-12-15_G562\\5621\\5621.pkl\n",
      "72\n",
      "adding a CC cell:  C:\\Users\\adity\\OneDrive\\NCBS\\Lab\\Projects\\EI_Dynamics\\Data\\21-12-15_G562\\5621\\5621.pkl\n",
      "Cell object loaded from file:  C:\\Users\\adity\\OneDrive\\NCBS\\Lab\\Projects\\EI_Dynamics\\Data\\21-12-16_G550\\5502\\5502.pkl\n",
      "skipping a VC cell:  C:\\Users\\adity\\OneDrive\\NCBS\\Lab\\Projects\\EI_Dynamics\\Data\\21-12-16_G550\\5502\\5502.pkl\n",
      "Cell object loaded from file:  C:\\Users\\adity\\OneDrive\\NCBS\\Lab\\Projects\\EI_Dynamics\\Data\\21-12-16_G550\\5501\\5501.pkl\n",
      "skipping a VC cell:  C:\\Users\\adity\\OneDrive\\NCBS\\Lab\\Projects\\EI_Dynamics\\Data\\21-12-16_G550\\5501\\5501.pkl\n",
      "Cell object loaded from file:  C:\\Users\\adity\\OneDrive\\NCBS\\Lab\\Projects\\EI_Dynamics\\Data\\21-12-28_G630\\6301\\6301.pkl\n",
      "skipping a VC cell:  C:\\Users\\adity\\OneDrive\\NCBS\\Lab\\Projects\\EI_Dynamics\\Data\\21-12-28_G630\\6301\\6301.pkl\n",
      "Cell object loaded from file:  C:\\Users\\adity\\OneDrive\\NCBS\\Lab\\Projects\\EI_Dynamics\\Data\\21-12-31_G620\\6201\\6201.pkl\n",
      "skipping a VC cell:  C:\\Users\\adity\\OneDrive\\NCBS\\Lab\\Projects\\EI_Dynamics\\Data\\21-12-31_G620\\6201\\6201.pkl\n",
      "Cell object loaded from file:  C:\\Users\\adity\\OneDrive\\NCBS\\Lab\\Projects\\EI_Dynamics\\Data\\22-04-18_G749\\7491\\7491.pkl\n"
     ]
    },
    {
     "ename": "EOFError",
     "evalue": "Ran out of input",
     "output_type": "error",
     "traceback": [
      "\u001b[1;31m---------------------------------------------------------------------------\u001b[0m",
      "\u001b[1;31mEOFError\u001b[0m                                  Traceback (most recent call last)",
      "Cell \u001b[1;32mIn[7], line 19\u001b[0m\n\u001b[0;32m     11\u001b[0m all_cell_data_ \u001b[39m=\u001b[39m []\n\u001b[0;32m     12\u001b[0m \u001b[39mfor\u001b[39;00m cell_path \u001b[39min\u001b[39;00m all_cells_paths:\n\u001b[0;32m     13\u001b[0m     \u001b[39m# # cellpath = project_path_root / cell_path\u001b[39;00m\n\u001b[0;32m     14\u001b[0m     \u001b[39m# cellID = cellpath.name\u001b[39;00m\n\u001b[1;32m   (...)\u001b[0m\n\u001b[0;32m     17\u001b[0m \n\u001b[0;32m     18\u001b[0m     \u001b[39m# try:\u001b[39;00m\n\u001b[1;32m---> 19\u001b[0m     neuron \u001b[39m=\u001b[39m ephys_classes\u001b[39m.\u001b[39;49mNeuron\u001b[39m.\u001b[39;49mloadCell(cell_path)\n\u001b[0;32m     20\u001b[0m     \u001b[39m# add_neuron_summary_df(neuron, cell_path)\u001b[39;00m\n\u001b[0;32m     21\u001b[0m \n\u001b[0;32m     22\u001b[0m     \u001b[39m# if cell clampMode is 'CC' and protocol is 'FreqSweep' then add to all_cell_data_\u001b[39;00m\n\u001b[0;32m     23\u001b[0m     \u001b[39mif\u001b[39;00m neuron\u001b[39m.\u001b[39mclampMode \u001b[39m==\u001b[39m \u001b[39m'\u001b[39m\u001b[39mCC\u001b[39m\u001b[39m'\u001b[39m:\n",
      "File \u001b[1;32mc:\\Users\\adity\\OneDrive\\NCBS\\Lab\\Projects\\EI_Dynamics\\Analysis\\eidynamics\\ephys_classes.py:661\u001b[0m, in \u001b[0;36mNeuron.loadCell\u001b[1;34m(filename)\u001b[0m\n\u001b[0;32m    659\u001b[0m     \u001b[39mwith\u001b[39;00m \u001b[39mopen\u001b[39m(filename, \u001b[39m'\u001b[39m\u001b[39mrb\u001b[39m\u001b[39m'\u001b[39m) \u001b[39mas\u001b[39;00m fin:\n\u001b[0;32m    660\u001b[0m         \u001b[39mprint\u001b[39m(\u001b[39m\"\u001b[39m\u001b[39mCell object loaded from file: \u001b[39m\u001b[39m\"\u001b[39m, filename)\n\u001b[1;32m--> 661\u001b[0m         \u001b[39mreturn\u001b[39;00m pickle\u001b[39m.\u001b[39;49mload(fin)\n\u001b[0;32m    662\u001b[0m \u001b[39mexcept\u001b[39;00m \u001b[39mFileNotFoundError\u001b[39;00m:\n\u001b[0;32m    663\u001b[0m     \u001b[39mprint\u001b[39m(\u001b[39m\"\u001b[39m\u001b[39mFile not found.\u001b[39m\u001b[39m\"\u001b[39m)\n",
      "\u001b[1;31mEOFError\u001b[0m: Ran out of input"
     ]
    }
   ],
   "source": [
    "protocols = ['FreqSweep', 'LTMRand', 'surprise', 'convergence']\n",
    "cell_set = all_cells.all_cells\n",
    "\n",
    "# project_path_root = Path( r\"\\\\storage.ncbs.res.in\\adityaa\\\\\" )\n",
    "\n",
    "for protocol in protocols:\n",
    "added_cells = 0\n",
    "skipped_cells = 0\n",
    "total_rows = 0\n",
    "all_cell_data_ = []\n",
    "for cell_path in all_cells_paths:\n",
    "    # # cellpath = project_path_root / cell_path\n",
    "    # cellID = cellpath.name\n",
    "    # # cellpickle = cellpath / (str(cellID) + \".pkl\")\n",
    "    # print(cellpickle)\n",
    "\n",
    "    try:\n",
    "        neuron = ephys_classes.Neuron.loadCell(cell_path)\n",
    "\n",
    "        neuron_data = neuron.data[protocol]\n",
    "        all_cell_data_.append(neuron_data)\n",
    "\n",
    "    except:\n",
    "        print(\"Error loading cell_path: \" + str(cell_path))\n",
    "        # sweeps.append(neuron_data.shape[0])\n",
    "\n",
    "# concatenate all the dataframes in all_cell_data_\n",
    "all_expt_ = pd.concat(all_cell_data_, ignore_index=True)\n",
    "\n",
    "save_df_to_h5(all_expt_, protocol=protocol)\n"
   ]
  },
  {
   "attachments": {},
   "cell_type": "markdown",
   "id": "419495dc",
   "metadata": {},
   "source": [
    "# CC Cells"
   ]
  },
  {
   "attachments": {},
   "cell_type": "markdown",
   "id": "6cedceb0",
   "metadata": {},
   "source": [
    "### Fig 1: CC | [expt_seq vs first-pulse-response] X cell_ID\n",
    "Does the first pulse response decrease during an experiment session on a cell?\n",
    "\n",
    "An experiment session consists of an array of experiments done on the cell with every experiment corresponding to one protocol (one stim frequency)\n",
    "\n",
    "Observation: Across all the patterns, as the session progresses, the EPSP response of the cell to the optical stimulation decreases."
   ]
  },
  {
   "cell_type": "code",
   "execution_count": null,
   "id": "70ee73db",
   "metadata": {},
   "outputs": [],
   "source": [
    "plt.close('all')\n",
    "# plt.figure()\n",
    "df_subset = df3.loc[ (df3[\"Clamp\"]== 0.0)  & (df3[\"intensity\"]== 100.0) & (df3[\"pulseWidth\"]== 2.0) & (df3[\"AP\"]== 0.0) & (df3[\"patternID\"] < 56) & (df3[\"GABAzineFlag\"]== 0.0) & (df3[\"numSq\"]>= 1.0)].copy() \n",
    "cat = sns.catplot(data=df_subset, y='firstpeakres', x='expt_seq', hue='numSq', col='cellID', col_wrap=5, palette='viridis', kind='point', markers=[\"^\", \"o\", \"s\"] ) #  \n",
    "cat.fig.suptitle('CC | [expt_seq vs first-pulse-response] X cell_ID | Control, Intensity=100%, Pulse Width = 2ms')\n",
    "cat.fig.subplots_adjust(top=.9)\n",
    "plt.show()"
   ]
  },
  {
   "attachments": {},
   "cell_type": "markdown",
   "id": "b72bf933",
   "metadata": {},
   "source": [
    "### Fig 2: CC | [Expt sequence vs IR ] x Cell_ID\n",
    "Does the input resistance of the cell change during an experiment session on a cell?\n",
    "\n",
    "An experiment session consists of an array of experiments done on the cell with every experiment corresponding to one protocol (one stim frequency)\n"
   ]
  },
  {
   "cell_type": "code",
   "execution_count": null,
   "id": "6b0d18bf",
   "metadata": {},
   "outputs": [],
   "source": [
    "plt.close('all')\n",
    "plt.figure()\n",
    "df_subset = df3.loc[ (df3[\"Clamp\"]== 0.0) & (df3[\"GABAzineFlag\"]== 0.0) & (df3[\"intensity\"]== 100.0) & (df3[\"pulseWidth\"]== 2.0)   & (df3[\"patternID\"] < 56) ].copy()\n",
    "cat = sns.catplot(data=df_subset, y='InputRes', x='expt_seq', hue='numSq', col='cellID', palette='viridis', col_wrap=5, kind='point', markers=[\"^\", \"o\", \"s\"] )\n",
    "cat.fig.suptitle('CC | [expt_seq vs Input Resistance (MOhm)] X cell_ID | Control, Intensity=100%, Pulse Width = 2ms')\n",
    "cat.fig.subplots_adjust(top=.9)\n",
    "plt.show()"
   ]
  },
  {
   "attachments": {},
   "cell_type": "markdown",
   "id": "4834edc1",
   "metadata": {},
   "source": [
    "### Fig 3: CC | [Expt sequence vs Tau ] x Cell_ID\n",
    "Does the Tau of the cell change during an experiment session on a cell?\n",
    "\n",
    "An experiment session consists of an array of experiments done on the cell with every experiment corresponding to one protocol (one stim frequency)\n"
   ]
  },
  {
   "cell_type": "code",
   "execution_count": null,
   "id": "b8730a23",
   "metadata": {},
   "outputs": [],
   "source": [
    "plt.close('all')\n",
    "plt.figure()\n",
    "df_subset = df3.loc[ (df3[\"Clamp\"]== 0.0) & (df3[\"GABAzineFlag\"]== 0.0) & (df3[\"intensity\"]== 100.0) & (df3[\"pulseWidth\"]== 2.0)   & (df3[\"patternID\"] < 56) ].copy() \n",
    "df_subset.loc[:,\"Tau\"] *= 1000\n",
    "cat = sns.catplot(data=df_subset, y='Tau', x='expt_seq', hue='numSq', col='cellID', palette='viridis', col_wrap=5, kind='point', markers=[\"^\", \"o\", \"s\"] )\n",
    "cat.fig.suptitle('CC | [expt_seq vs Tau (ms)] X cell_ID | Control, Intensity=100%, Pulse Width = 2ms')\n",
    "cat.fig.subplots_adjust(top=.9)\n",
    "plt.show()"
   ]
  },
  {
   "attachments": {},
   "cell_type": "markdown",
   "id": "4cd1720e",
   "metadata": {},
   "source": [
    "### Fig 4: CC | [Expt sequence vs Baseline (mV) ] x Cell_ID\n",
    "Does the Vm of the cell change during an experiment session on a cell?\n",
    "\n",
    "An experiment session consists of an array of experiments done on the cell with every experiment corresponding to one protocol (one stim frequency)\n"
   ]
  },
  {
   "cell_type": "code",
   "execution_count": null,
   "id": "678053eb",
   "metadata": {},
   "outputs": [],
   "source": [
    "plt.close('all')\n",
    "plt.figure()\n",
    "df_subset = df3.loc[ (df3[\"Clamp\"]== 0.0) & (df3[\"GABAzineFlag\"]== 0.0) & (df3[\"intensity\"]== 100.0) & (df3[\"pulseWidth\"]== 2.0)   & (df3[\"patternID\"] < 56) ].copy() \n",
    "df_subset.loc[:,\"Tau\"] *= 1000\n",
    "cat = sns.catplot(data=df_subset, y='MeanBaseline', x='expt_seq', hue='numSq', col='cellID', palette='viridis', col_wrap=5, kind='point', markers=[\"^\", \"o\", \"s\"] )\n",
    "cat.fig.suptitle('CC | [expt_seq vs Baseline (mV)] X cell_ID | Control, Intensity=100%, Pulse Width = 2ms')\n",
    "cat.fig.subplots_adjust(top=.9)\n",
    "plt.show()"
   ]
  },
  {
   "attachments": {},
   "cell_type": "markdown",
   "id": "dc592038",
   "metadata": {},
   "source": [
    "# VC Cells"
   ]
  },
  {
   "attachments": {},
   "cell_type": "markdown",
   "id": "92eb2b47",
   "metadata": {},
   "source": [
    "### Fig 5: VC | [Expt sequence vs first-pulse-response x EI ] x numSq x_cellID\n",
    "Does the first pulse response decrease during an experiment session on a cell?\n",
    "\n",
    "An experiment session consists of an array of experiments done on the cell with every experiment corresponding to one protocol (one stim frequency)\n",
    "\n",
    "Observation: Across all the patterns, as the session progresses, the EPSP response of the cell to the optical stimulation decreases."
   ]
  },
  {
   "cell_type": "code",
   "execution_count": null,
   "id": "fe843952",
   "metadata": {},
   "outputs": [],
   "source": [
    "plt.close('all')\n",
    "# plt.figure()\n",
    "df_subset = df3.loc[ (df3[\"Clamp\"]== 1.0)  & (df3[\"intensity\"]== 100.0) & (df3[\"pulseWidth\"]== 2.0) & (df3[\"AP\"]== 0.0) & (df3[\"patternID\"] < 56) & (df3[\"GABAzineFlag\"]== 0.0) & (df3[\"numSq\"]>= 1.0)].copy() \n",
    "cat = sns.catplot(data=df_subset, y='firstpeakres', x='expt_seq', hue='ClampingPotl', col='cellID', row='numSq', palette='viridis', kind='strip')#, markers=[\"^\", \"o\", \"s\"] ) #  \n",
    "cat.fig.suptitle('VC | [expt_seq vs first-pulse-response x E/I ] X numSq x cell_ID | Control, Intensity=100%, Pulse Width=2ms')\n",
    "cat.fig.subplots_adjust(top=.9)\n",
    "plt.show()"
   ]
  },
  {
   "attachments": {},
   "cell_type": "markdown",
   "id": "9bdaf885",
   "metadata": {},
   "source": [
    "### Fig 2: VC | [Expt sequence vs series resistance x EI ] x numSq x_cellID\n",
    "Does the input resistance of the cell change during an experiment session on a cell?\n",
    "\n",
    "An experiment session consists of an array of experiments done on the cell with every experiment corresponding to one protocol (one stim frequency)\n"
   ]
  },
  {
   "cell_type": "code",
   "execution_count": null,
   "id": "80e6f5a0",
   "metadata": {},
   "outputs": [],
   "source": [
    "plt.close('all')\n",
    "# plt.figure()\n",
    "df_subset = df3.loc[ (df3[\"Clamp\"]== 1.0) & (df3[\"GABAzineFlag\"]== 0.0) & (df3[\"intensity\"]== 100.0) & (df3[\"pulseWidth\"]== 2.0)   & (df3[\"patternID\"] < 56) & (df3[\"Tau\"] < 100) & (df3[\"Tau\"] > 0.0)].copy()\n",
    "cat = sns.catplot(data=df_subset, y='Tau', x='expt_seq', hue='numSq', col='cellID', palette='viridis', col_wrap=5, kind='point', markers=[\"^\", \"o\", \"s\"])\n",
    "cat.fig.suptitle('VC | [expt_seq vs Series Resistance (MOhm)] X cell_ID | Control, Intensity=100%, Pulse Width = 2ms')\n",
    "cat.fig.subplots_adjust(top=.9)\n",
    "plt.show()"
   ]
  },
  {
   "attachments": {},
   "cell_type": "markdown",
   "id": "8ea22a07",
   "metadata": {},
   "source": [
    "### Fig 3: CC | [Expt sequence vs Tau ] x Cell_ID\n",
    "Does the Tau of the cell change during an experiment session on a cell?\n",
    "\n",
    "An experiment session consists of an array of experiments done on the cell with every experiment corresponding to one protocol (one stim frequency)\n"
   ]
  },
  {
   "cell_type": "code",
   "execution_count": null,
   "id": "71e57053",
   "metadata": {},
   "outputs": [],
   "source": [
    "plt.close('all')\n",
    "plt.figure()\n",
    "df_subset = df3.loc[ (df3[\"Clamp\"]== 1.0) & (df3[\"GABAzineFlag\"]== 0.0) & (df3[\"intensity\"]== 100.0) & (df3[\"pulseWidth\"]== 2.0)   & (df3[\"patternID\"] < 56) ].copy() \n",
    "df_subset.loc[:,\"Tau\"] *= 1000\n",
    "cat = sns.catplot(data=df_subset, y='Tau', x='expt_seq', hue='numSq', col='cellID', palette='viridis', col_wrap=5, kind='point', markers=[\"^\", \"o\", \"s\"] )\n",
    "cat.fig.suptitle('CC | [expt_seq vs Tau (ms)] X cell_ID | Control, Intensity=100%, Pulse Width = 2ms')\n",
    "cat.fig.subplots_adjust(top=.9)\n",
    "plt.show()"
   ]
  },
  {
   "attachments": {},
   "cell_type": "markdown",
   "id": "fa81ee51",
   "metadata": {},
   "source": [
    "### Fig 4: CC | [Expt sequence vs Baseline (mV) ] x Cell_ID\n",
    "Does the Vm of the cell change during an experiment session on a cell?\n",
    "\n",
    "An experiment session consists of an array of experiments done on the cell with every experiment corresponding to one protocol (one stim frequency)\n"
   ]
  },
  {
   "cell_type": "code",
   "execution_count": null,
   "id": "d049e3ee",
   "metadata": {},
   "outputs": [],
   "source": [
    "plt.close('all')\n",
    "plt.figure()\n",
    "df_subset = df3.loc[ (df3[\"Clamp\"]== 1.0) & (df3[\"GABAzineFlag\"]== 0.0) & (df3[\"intensity\"]== 100.0) & (df3[\"pulseWidth\"]== 2.0)   & (df3[\"patternID\"] < 56) ].copy() \n",
    "df_subset.loc[:,\"Tau\"] *= 1000\n",
    "cat = sns.catplot(data=df_subset, y='MeanBaseline', x='expt_seq', hue='numSq', col='cellID', palette='viridis', col_wrap=5, kind='point', markers=[\"^\", \"o\", \"s\"] )\n",
    "cat.fig.suptitle('CC | [expt_seq vs Baseline (mV)] X cell_ID | Control, Intensity=100%, Pulse Width = 2ms')\n",
    "cat.fig.subplots_adjust(top=.9)\n",
    "plt.show()"
   ]
  },
  {
   "cell_type": "code",
   "execution_count": null,
   "id": "da2b6cc3",
   "metadata": {},
   "outputs": [],
   "source": [
    "def plot_cell_prop(df3, cellid, prop):\n",
    "    plt.close('all')\n",
    "\n",
    "    df_test = df3.loc[(df3[\"cellID\"] == cellid)]\n",
    "    sns.catplot(data=df_test, x='expt_seq', y=prop, hue='numSq', col='exptID', col_wrap=5, kind='point' )\n",
    "    figpath = Path(r\"\\\\storage.ncbs.res.in\\adityaa\\Lab\\Projects\\EI_Dynamics\\AnalysisFiles\\all_cells_tau_19May22\\\\\")\n",
    "    plt.savefig(figpath / ('cc_' + str(cellid) + '_' + prop + '.png'))"
   ]
  },
  {
   "cell_type": "code",
   "execution_count": null,
   "id": "d696a808",
   "metadata": {},
   "outputs": [],
   "source": [
    "df_CC = df3.loc[(df3[\"Clamp\"]== 0.0)]\n",
    "cc_cells =  list(pd.unique(df_CC[\"cellID\"]))\n",
    "for ccell in cc_cells:\n",
    "    for p in ['firstpeakres']:\n",
    "        print(ccell, p)\n",
    "        plot_cell_prop(df3, ccell, p)\n",
    "plt.close('all')"
   ]
  },
  {
   "cell_type": "code",
   "execution_count": null,
   "id": "317bf325",
   "metadata": {},
   "outputs": [],
   "source": [
    "plt.close('all')\n",
    "df_cc = df3.loc[(df3[\"Clamp\"]== 0.0)]\n",
    "\n",
    "sns.catplot(data=df_cc, x='sweep', y=prop, hue=, col='expt_seq', col_wrap=5, kind='point' )\n",
    "figpath = Path(r\"\\\\storage.ncbs.res.in\\adityaa\\Lab\\Projects\\EI_Dynamics\\AnalysisFiles\\all_cells_tau_19May22\\\\\")\n",
    "plt.savefig(figpath / ('cc_' + str(cellid) + '_' + prop + '.png'))"
   ]
  },
  {
   "attachments": {},
   "cell_type": "markdown",
   "id": "a787e2d6",
   "metadata": {},
   "source": [
    "### Fig. 2: CC Within-experiment Sweep vs Peak Response of first pulse\n",
    "\n",
    "Observation: Within a single experiment, across all cells, and across all experiments, first pulse response does not differ significantly for 3 repeats\n"
   ]
  },
  {
   "cell_type": "code",
   "execution_count": null,
   "id": "ea173e3a",
   "metadata": {},
   "outputs": [],
   "source": []
  },
  {
   "cell_type": "code",
   "execution_count": null,
   "id": "0d0322c2",
   "metadata": {},
   "outputs": [],
   "source": [
    "plt.close('all')\n",
    "# plt.figure()\n",
    "df_subset = df3.loc[ (df3[\"Clamp\"]== 0.0) & (df3[\"ClampingPotl\"]== -70.0) & (df3[\"AP\"]== 0.0) & (df3[\"GABAzineFlag\"]== 0.0) & (df3[\"intensity\"]== 100.0) & (df3[\"pulseWidth\"]== 2.0) & (df3[\"numSq\"]> 2.0) & (df3[\"patternID\"] < 56) ]\n",
    "cat = sns.catplot(data=df_subset, y='firstpeakres', x='sweep', hue='numSq', col='patternID', palette='viridis', col_wrap=4, kind='point', )#join=True)#, markers=[\"^\", \"o\"], linestyles=['-','--'])\n",
    "cat.fig.suptitle('Response to first pulse (mV) progression with sweeps across patterns in CC recordings')\n",
    "cat.fig.subplots_adjust(top=.9)\n",
    "# plt.show()"
   ]
  },
  {
   "attachments": {},
   "cell_type": "markdown",
   "id": "c9421b9f",
   "metadata": {},
   "source": [
    "### Fig. 3: Input resistance across experiment session\n",
    "\n",
    "Observation: Continuous decline in IR"
   ]
  },
  {
   "cell_type": "code",
   "execution_count": null,
   "id": "73f150b8",
   "metadata": {},
   "outputs": [],
   "source": [
    "plt.close('all')\n",
    "# plt.figure()\n",
    "df_subset = df3.loc[ (df3[\"Clamp\"]== 0.0) & (df3[\"ClampingPotl\"]== -70.0) & (df3[\"AP\"]== 0.0) & (df3[\"intensity\"]== 100.0) & (df3[\"pulseWidth\"]== 2.0) & (df3[\"numSq\"]> 2.0) & (df3[\"patternID\"] < 56) ]\n",
    "cat = sns.catplot(data=df_subset, y='InputRes', x='expt_seq', palette='viridis', kind='point', )#join=True)#, markers=[\"^\", \"o\"], linestyles=['-','--'])\n",
    "cat.fig.suptitle('CC: Input resistance of the Cell (MOhm) in the experiment session')\n",
    "cat.fig.subplots_adjust(top=.9)\n"
   ]
  },
  {
   "attachments": {},
   "cell_type": "markdown",
   "id": "3de5968c",
   "metadata": {},
   "source": [
    "### Fig 4: CC Input Resistance progression long the experiment session\n",
    "\n",
    "Observation: IR decreases consistently as the session porgresses"
   ]
  },
  {
   "cell_type": "code",
   "execution_count": null,
   "id": "e5db2f8c",
   "metadata": {},
   "outputs": [],
   "source": [
    "plt.close('all')\n",
    "# plt.figure()\n",
    "df_subset = df3.loc[ (df3[\"Clamp\"]== 0.0) & (df3[\"ClampingPotl\"]== -70.0) & (df3[\"AP\"]== 0.0) & (df3[\"intensity\"]== 100.0) & (df3[\"pulseWidth\"]== 2.0) & (df3[\"numSq\"]> 2.0) & (df3[\"patternID\"] < 56) ]\n",
    "cat = sns.catplot(data=df_subset, y='InputRes', x='sweep', palette='viridis', hue='expt_seq', kind='point', col='expt_seq', col_wrap=4 )#join=True)#, markers=[\"^\", \"o\"], linestyles=['-','--'])\n",
    "cat.fig.suptitle('CC: Input resistance of the Cell (MOhm) vs Sweeps')\n",
    "cat.fig.subplots_adjust(top=.9)"
   ]
  },
  {
   "cell_type": "code",
   "execution_count": null,
   "id": "b82f82b2",
   "metadata": {},
   "outputs": [],
   "source": []
  }
 ],
 "metadata": {
  "kernelspec": {
   "display_name": "Python 3 (ipykernel)",
   "language": "python",
   "name": "python3"
  },
  "language_info": {
   "codemirror_mode": {
    "name": "ipython",
    "version": 3
   },
   "file_extension": ".py",
   "mimetype": "text/x-python",
   "name": "python",
   "nbconvert_exporter": "python",
   "pygments_lexer": "ipython3",
   "version": "3.11.4"
  }
 },
 "nbformat": 4,
 "nbformat_minor": 5
}
