{
 "cells": [
  {
   "cell_type": "markdown",
   "id": "c19664ec-7504-4a5b-b901-3b46e49ee4e1",
   "metadata": {},
   "source": [
    "## Functions to analyse freqsweep, surprise, and convergence protocols"
   ]
  },
  {
   "cell_type": "code",
   "execution_count": null,
   "id": "3384ed0f-1681-4a9d-b56b-57d166258e02",
   "metadata": {},
   "outputs": [],
   "source": [
    "import sys\n",
    "import os\n",
    "import importlib\n",
    "from pathlib import Path\n",
    "import pickle\n",
    "\n",
    "import numpy as np\n",
    "import matplotlib as mpl\n",
    "import matplotlib.pyplot as plt\n",
    "import pandas as pd\n",
    "import seaborn as sns\n",
    "from scipy.signal import find_peaks\n",
    "import plotly.express as px\n",
    "import plotly.graph_objects as go\n",
    "\n",
    "\n",
    "%matplotlib widget\n",
    "# sns.set_context('talk')\n",
    "\n",
    "%tb\n",
    "from eidynamics import utils, data_quality_checks, ephys_classes, abf_to_data\n",
    "import parse_data\n",
    "import all_cells"
   ]
  },
  {
   "cell_type": "code",
   "execution_count": null,
   "id": "b7fcabd9-569f-4426-a4f6-bc762fe19803",
   "metadata": {},
   "outputs": [],
   "source": [
    "cellpath = Path(r\"C:\\Users\\adity\\OneDrive\\NCBS\\Lab\\Projects\\EI_Dynamics\\Data\\23-06-07_GikeAA313\\3131.pkl\")"
   ]
  },
  {
   "cell_type": "code",
   "execution_count": null,
   "id": "6a1e3073-1dde-4ea2-a59c-7c37ccd1ac1b",
   "metadata": {},
   "outputs": [],
   "source": [
    "cell = ephys_classes.Neuron.loadCell(cellpath)"
   ]
  },
  {
   "cell_type": "code",
   "execution_count": null,
   "id": "65bb349a-1246-4436-978b-10d6ade350d6",
   "metadata": {
    "tags": []
   },
   "outputs": [],
   "source": [
    "cell.data.keys()"
   ]
  },
  {
   "cell_type": "code",
   "execution_count": null,
   "id": "09eba3ef-f2ab-4fd9-badd-4a8c05191737",
   "metadata": {
    "tags": []
   },
   "outputs": [],
   "source": [
    "cell.data"
   ]
  },
  {
   "cell_type": "code",
   "execution_count": null,
   "id": "18d9e8fe-d5d4-4f19-9f17-87dd168fe54d",
   "metadata": {},
   "outputs": [],
   "source": [
    "freqdf = cell.data['FreqSweep']\n",
    "surprisedf = cell.data['surprise']"
   ]
  },
  {
   "cell_type": "code",
   "execution_count": null,
   "id": "a8db8d91-697c-4db5-8ab9-16afad6bbc55",
   "metadata": {},
   "outputs": [],
   "source": [
    "surprisedf.iloc[0,:24]"
   ]
  },
  {
   "cell_type": "markdown",
   "id": "6e274ddd-f7a6-4246-a556-75647691dbc9",
   "metadata": {},
   "source": [
    "### Things to calculate\n",
    "1. first pulse response: peak, slope, auc\n",
    "2. PPR vs FPR"
   ]
  },
  {
   "cell_type": "markdown",
   "id": "88226bc0-2889-4ef6-8703-b4f2dd61f4cf",
   "metadata": {},
   "source": [
    "### plot all the response with respect to numSq"
   ]
  },
  {
   "cell_type": "code",
   "execution_count": null,
   "id": "294231c5-143b-4ea0-8414-c35ad3202748",
   "metadata": {
    "tags": []
   },
   "outputs": [],
   "source": []
  },
  {
   "cell_type": "code",
   "execution_count": null,
   "id": "96a2e09e-1e21-490d-9568-bd18154a7479",
   "metadata": {},
   "outputs": [],
   "source": [
    "df = surprisedf[ surprisedf[\"exptID\"] != 5]\n",
    "slicevar = 'exptID'\n",
    "\n",
    "sqs = np.unique(df[slicevar])\n",
    "fig, axs = plt.subplots(len(sqs), 1, figsize=(12,9), sharex=True)\n",
    "for i,s in enumerate(sqs):\n",
    "    print(slicevar, \": \", s, i)\n",
    "    dftemp = df[ (df[slicevar]==s) ]\n",
    "    window = 20023+utils.epoch_to_datapoints([0, 1.0])\n",
    "    m = dftemp.iloc[:, window].to_numpy().T\n",
    "    pd = np.average(dftemp.iloc[:, window+40000].to_numpy().T, axis=1)\n",
    "    t = x = np.arange(0, 1.0, 1 / 2e4)\n",
    "    axs[i].plot(window, m, 'gray', label=str(s))\n",
    "    axs[i].set_ylim([-2, 10])\n",
    "    \n",
    "    axs[i].plot(window, np.average(m, axis=1), 'black', label=str(s))\n",
    "    axs[i].plot(window, pd , 'red', label=str(s))\n",
    "    axs[i].set_title(str(s))\n",
    "\n",
    "fig.show()"
   ]
  },
  {
   "cell_type": "code",
   "execution_count": null,
   "id": "100cda3e-cacc-4252-b88e-ea7f08bded6c",
   "metadata": {
    "tags": []
   },
   "outputs": [],
   "source": [
    "df"
   ]
  },
  {
   "cell_type": "code",
   "execution_count": null,
   "id": "69755cb5-d92e-47cb-8bdd-5caf7b702777",
   "metadata": {
    "tags": []
   },
   "outputs": [],
   "source": [
    "df = freqdf#[ freqdf[\"exptID\"] != 5]\n",
    "slicevar = 'exptID'\n",
    "\n",
    "sqs = np.unique(df[slicevar])\n",
    "fig, axs = plt.subplots(len(sqs), 1, figsize=(12,9), sharex=True)\n",
    "for i,s in enumerate(sqs):\n",
    "    print(slicevar, \": \", s, i)\n",
    "    dftemp = df[ (df[slicevar]==s) ]\n",
    "    window = 23+utils.epoch_to_datapoints([0, 1.0])\n",
    "    m = dftemp.iloc[:, window].to_numpy().T\n",
    "    pd = np.average(dftemp.iloc[:, window+40000].to_numpy().T, axis=1)\n",
    "    t = x = np.arange(0, 1.0, 1 / 2e4)\n",
    "    axs[i].plot(window, m, 'gray', label=str(s))\n",
    "    axs[i].set_ylim([-5, 20])\n",
    "    \n",
    "    axs[i].plot(window, np.average(m, axis=1), 'black', label=str(s))\n",
    "    axs[i].plot(window, pd , 'red', label=str(s))\n",
    "    axs[i].set_title(str(s))\n",
    "\n",
    "fig.show()"
   ]
  },
  {
   "cell_type": "code",
   "execution_count": null,
   "id": "6d075e4b",
   "metadata": {},
   "outputs": [],
   "source": [
    "from eidynamics import plot_tools"
   ]
  },
  {
   "cell_type": "code",
   "execution_count": null,
   "id": "de01f1cd",
   "metadata": {},
   "outputs": [],
   "source": [
    "import importlib\n",
    "importlib.reload(plot_tools)"
   ]
  },
  {
   "cell_type": "code",
   "execution_count": null,
   "id": "bd7b4537",
   "metadata": {},
   "outputs": [],
   "source": [
    "plot_tools.plot_data_from_df(freqdf[freqdf[\"condition\"]=='Control'], start = 23, simplify=False, combine=False, fig=None, ax=None, exclude_from_simplification=[])"
   ]
  },
  {
   "cell_type": "code",
   "execution_count": null,
   "metadata": {},
   "outputs": [],
   "source": []
  },
  {
   "cell_type": "markdown",
   "metadata": {},
   "source": [
    "### Spike Train"
   ]
  },
  {
   "cell_type": "markdown",
   "metadata": {},
   "source": [
    "#### STA"
   ]
  },
  {
   "cell_type": "code",
   "execution_count": null,
   "metadata": {},
   "outputs": [],
   "source": [
    "def plot_spike_train_STA(data, squares='all', save_fig=True):\n",
    "    cell = np.array(data[0][0])\n",
    "    led = np.array(data[0][2])\n",
    "    if squares=5:\n",
    "        numSweeps = np.array([1,9,17, 2,10,18, 3,11,19, 4,12,20, 5,13,21])-1\n",
    "    elif squares=15:\n",
    "        numSweeps = np.array([6,14,21, 7,15,22, 8,16,23])-1\n",
    "    elif squares = 'all':\n",
    "        numSweeps = np.arange(0,24)\n",
    "\n",
    "    fig, ax = plt.subplots(1,1,figsize=(10,10))\n",
    "    mean_sta = np.zeros((len(numSweeps), 2000))\n",
    "    for n, s in enumerate(numSweeps):\n",
    "        trial_cell = cell[s,:]\n",
    "        trial_stim = led[s,:]\n",
    "        peaks, _ = find_peaks(trial_cell, height=50, distance=100)\n",
    "        numEvents = len(peaks)\n",
    "        pre_event_stim = np.zeros((numEvents,2000))\n",
    "        print(n, s, numEvents)\n",
    "        for i in range(numEvents):\n",
    "            pre_event_stim[i,:] = trial_stim[peaks[i]-2000:peaks[i]]\n",
    "            # draw individual stim slices\n",
    "            # ax.plot(np.linspace(-100, 0, 2000), pre_event_stim[i,:], color='k', alpha=0.05)\n",
    "        mean_sta[n,:] = np.mean(pre_event_stim, axis=0)\n",
    "        # make a filled plot of mean sta\n",
    "        ax.fill_between(np.linspace(-100, 0, 2000), np.mean(pre_event_stim, axis=0), color='k', alpha=0.2)\n",
    "\n",
    "    ax.set_xlabel('Time before a spike event (ms)')\n",
    "    ax.set_ylabel('LED intensity (a.u.)')\n",
    "    ax.set_title( 'Spike Triggered Average for {} sq patterns'.format(squares) )\n",
    "\n",
    "    # show figure and save\n",
    "    if save_fig:\n",
    "        filename1 = 'sta_{}sq.svg'.format(squares)\n",
    "        filename2 = 'sta_{}sq.png'.format(squares)\n",
    "        plt.savefig(filename1)\n",
    "        plt.savefig(filename2)\n"
   ]
  },
  {
   "cell_type": "code",
   "execution_count": null,
   "id": "b7623027",
   "metadata": {},
   "outputs": [
    {
     "name": "stdout",
     "output_type": "stream",
     "text": [
      "Loading ABF file\n",
      "Datafile has 24 sweeps in 6 channels.\n"
     ]
    }
   ],
   "source": [
    "train_ctrl_data = train_ctrl_data = abf_to_data.abf_to_data(spiketrain_ctrl_path, filter_type='bessel', filter_cutoff=2000,data_order=\"channelwise\", sweep_baseline_epoch=[0, 0.2], baseline_subtraction=True)"
   ]
  },
  {
   "cell_type": "code",
   "execution_count": null,
   "metadata": {},
   "outputs": [],
   "source": [
    "plot_spike_train_STA(train_ctrl_data, squares='all', save_fig=False)"
   ]
  }
 ],
 "metadata": {
  "kernelspec": {
   "display_name": "Python 3.7.9 ('venv-lab')",
   "language": "python",
   "name": "python3"
  },
  "language_info": {
   "name": "python",
   "version": "3.11.4"
  },
  "orig_nbformat": 4,
  "vscode": {
   "interpreter": {
    "hash": "9b6a72a02950398f4289a029a55e5d1780677dc385db655911105bb59bcb94e5"
   }
  }
 },
 "nbformat": 4,
 "nbformat_minor": 2
}
