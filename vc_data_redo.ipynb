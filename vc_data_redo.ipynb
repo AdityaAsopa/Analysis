{
 "cells": [
  {
   "cell_type": "code",
   "execution_count": 2,
   "metadata": {},
   "outputs": [],
   "source": [
    "# from   pathlib      import Path\n",
    "# import importlib\n",
    "\n",
    "# import numpy                as np\n",
    "# import matplotlib           as mpl\n",
    "# import matplotlib.pyplot    as plt\n",
    "# import seaborn              as sns\n",
    "# import pandas               as pd\n",
    "\n",
    "# from scipy.stats   import kruskal, wilcoxon, mannwhitneyu, ranksums\n",
    "# from scipy.optimize import curve_fit\n",
    "# import statsmodels.api as sm\n",
    "# from statsmodels.multivariate.manova import MANOVA\n",
    "# import statsmodels.formula.api as smf\n",
    "# from eidynamics     import utils, plot_tools\n",
    "# plt.rcParams['font.family'] = 'Arial'\n",
    "# plt.rcParams['font.size'] = 12\n",
    "# plt.rcParams['svg.fonttype'] = 'none'\n",
    "\n",
    "# # make a colour map viridis\n",
    "# viridis = mpl.colormaps[\"viridis\"]\n",
    "# flare   = mpl.colormaps[\"flare\"]\n",
    "# crest   = mpl.colormaps[\"crest\"]\n",
    "# magma   = mpl.colormaps[\"magma\"]\n",
    "# edge    = mpl.colormaps['edge']\n",
    "\n",
    "# color_E = \"flare\"\n",
    "# color_I = \"crest\"\n",
    "# color_freq = {1:magma(0.05), 5:magma(0.1), 10:magma(0.2), 20:magma(.4), 30:magma(.5), 40:magma(.6), 50:magma(.7), 100:magma(.9)}\n",
    "# color_squares = color_squares = {1:viridis(0.2), 5:viridis(.4), 7:viridis(.6), 15:viridis(.8), 20:viridis(1.0)}\n",
    "# color_EI = {-70:flare(0), 0:crest(0)}\n",
    "# colors_EI = {-70:flare, 0:crest}\n",
    "\n",
    "# Fs = 2e4\n",
    "# %matplotlib widget\n",
    "# freq_sweep_pulses = np.arange(9)\n",
    "\n",
    "# from eidynamics.fit_PSC     import find_sweep_expected\n",
    "# # from Findsim        import tab_presyn_patterns_LR_43\n",
    "# # import parse_data\n",
    "# from eidynamics     import utils, plot_tools\n",
    "# import all_cells\n",
    "# # import plotFig2\n",
    "# import stat_annotate"
   ]
  },
  {
   "cell_type": "code",
   "execution_count": 1,
   "metadata": {},
   "outputs": [],
   "source": [
    "import numpy as np\n",
    "import pandas as pd\n",
    "import matplotlib.pyplot as plt\n",
    "from pathlib import Path\n",
    "import plotFig2\n",
    "%colors nocolor\n",
    "Fs=2e4"
   ]
  },
  {
   "cell_type": "code",
   "execution_count": 13,
   "metadata": {},
   "outputs": [],
   "source": [
    "# load data\n",
    "figure_raw_material_location = Path(r\"paper_figure_matter\\\\\")\n",
    "paper_figure_export_location = Path(r\"paper_figures\\\\Figure2v2\\\\\")\n",
    "data_path                    = Path(r\"parsed_data\\\\\")\n",
    "\n",
    "# Load the dataset\n",
    "freq_sweep_vc_datapath =  Path(r\"parsed_data\\\\all_cells_FreqSweep_VC_long.h5\")\n",
    "df = pd.read_hdf(freq_sweep_vc_datapath, key='data')\n",
    "\n",
    "# # expanded dataframe (processed dataframe with metadata and analysed params)\n",
    "# expanded_data_path = Path(r\"parsed_data\\all_cells_FreqSweep_combined_expanded.h5\")\n",
    "# xc_FS_analyseddf = pd.read_hdf(expanded_data_path, key='data')"
   ]
  },
  {
   "cell_type": "code",
   "execution_count": 14,
   "metadata": {},
   "outputs": [
    {
     "data": {
      "text/plain": [
       "(4407, 80073)"
      ]
     },
     "execution_count": 14,
     "metadata": {},
     "output_type": "execute_result"
    }
   ],
   "source": [
    "df.shape"
   ]
  },
  {
   "cell_type": "code",
   "execution_count": 15,
   "metadata": {},
   "outputs": [
    {
     "data": {
      "text/plain": [
       "(4407, 20073)"
      ]
     },
     "execution_count": 15,
     "metadata": {},
     "output_type": "execute_result"
    }
   ],
   "source": [
    "# remove columns that are not needed\n",
    "# not needed columns are 20049 to 80049\n",
    "df = df.drop(df.columns[20049:80049], axis=1)\n",
    "df.shape"
   ]
  },
  {
   "cell_type": "code",
   "execution_count": 16,
   "metadata": {},
   "outputs": [
    {
     "name": "stdout",
     "output_type": "stream",
     "text": [
      "Processed 0 rows\n"
     ]
    },
    {
     "name": "stderr",
     "output_type": "stream",
     "text": [
      "c:\\Users\\adity\\OneDrive\\NCBS\\Lab\\Projects\\EI_Dynamics\\Analysis\\plotFig2.py:48: RuntimeWarning: overflow encountered in exp\n",
      "  ret, cov = sci.curve_fit(lambda t,a,tau: a*np.exp(-t/tau), x, y, p0=(pk-baseline,0.02) )\n",
      "c:\\Users\\adity\\OneDrive\\NCBS\\Lab\\Projects\\EI_Dynamics\\Analysis\\plotFig2.py:48: RuntimeWarning: overflow encountered in multiply\n",
      "  ret, cov = sci.curve_fit(lambda t,a,tau: a*np.exp(-t/tau), x, y, p0=(pk-baseline,0.02) )\n",
      "c:\\venvs\\venv-ephys\\Lib\\site-packages\\scipy\\optimize\\_minpack_py.py:1010: OptimizeWarning: Covariance of the parameters could not be estimated\n",
      "  warnings.warn('Covariance of the parameters could not be estimated',\n"
     ]
    },
    {
     "name": "stdout",
     "output_type": "stream",
     "text": [
      "Processed 100 rows\n",
      "Processed 200 rows\n",
      "Processed 300 rows\n",
      "Processed 400 rows\n",
      "Processed 500 rows\n",
      "Processed 600 rows\n",
      "Processed 700 rows\n",
      "Processed 800 rows\n",
      "Processed 900 rows\n",
      "Processed 1000 rows\n",
      "Processed 1100 rows\n",
      "Processed 1200 rows\n",
      "Processed 1300 rows\n",
      "Processed 1400 rows\n",
      "Processed 1500 rows\n",
      "Processed 1900 rows\n",
      "Processed 2000 rows\n",
      "Processed 2100 rows\n",
      "Processed 2200 rows\n",
      "Processed 2300 rows\n",
      "Processed 2400 rows\n",
      "Processed 2500 rows\n",
      "Processed 2600 rows\n",
      "Processed 2700 rows\n",
      "Processed 2800 rows\n",
      "Processed 2900 rows\n",
      "Processed 3000 rows\n",
      "(4407, 145)\n",
      "Skipped 1635 rows\n"
     ]
    }
   ],
   "source": [
    "import importlib\n",
    "importlib.reload(plotFig2)\n",
    "\n",
    "new_fields = ['valley_', 'valleytime_', 'peak_', 'peaktime_', 'slope_', 'delay_', 'normpeak_', 'PSC_']\n",
    "newcolumns = [field + str(i) for field in new_fields for i in range(9)]\n",
    "Fs=2e4\n",
    "# Adding new columns with NaN values\n",
    "df = df.assign(**{col: np.nan for col in newcolumns})\n",
    "c = 0\n",
    "for idx, row in df.iterrows():\n",
    "    # do no process if freq==10\n",
    "    if row['stimFreq'] <20:\n",
    "        c+=1\n",
    "        continue\n",
    "    if row['probePulseStart'] == row['pulseTrainStart']:\n",
    "        c+=1\n",
    "        continue\n",
    "    \n",
    "    results = plotFig2.deconv(row[49:80049], row['stimFreq'], row['probePulseStart'], row['pulseTrainStart'], None, noprobepulse=False)\n",
    "    \n",
    "    valleyTimes, valleys, peakTimes, peaks = results[2]\n",
    "    # elementwise difference between peak and valley is PSC\n",
    "    pscs = np.array(peaks) - np.array(valleys)  \n",
    "    normpeaks = np.array(peaks) / peaks[0]\n",
    "    stimTimes = np.array(results[-1]) / Fs    \n",
    "    slopes = np.array([(peaks[i] - valleys[i]) / (peakTimes[i] - valleyTimes[i]) for i in range(len(peaks))])\n",
    "    delays = np.array([(valleyTimes[i] - stimTimes[i]) for i in range(len(valleyTimes))])\n",
    "\n",
    "    for col in newcolumns:\n",
    "        prefix, col_idx = col.split('_')\n",
    "        col_idx = int(col_idx)\n",
    "\n",
    "        if col_idx < len(valleys):  # Ensure index is within bounds\n",
    "            if prefix == 'valley':\n",
    "                df.loc[row.name, col] = valleys[col_idx]\n",
    "            elif prefix == 'valleytime':\n",
    "                df.loc[row.name, col] = valleyTimes[col_idx]\n",
    "            elif prefix == 'peak':\n",
    "                df.loc[row.name, col] = peaks[col_idx]\n",
    "            elif prefix == 'peaktime':\n",
    "                df.loc[row.name, col] = peakTimes[col_idx]\n",
    "            elif prefix == 'slope':\n",
    "                df.loc[row.name, col] = slopes[col_idx]\n",
    "            elif prefix == 'delay':\n",
    "                df.loc[row.name, col] = delays[col_idx]\n",
    "            elif prefix == 'normpeak':\n",
    "                df.loc[row.name, col] = normpeaks[col_idx]\n",
    "            elif prefix == 'PSC':\n",
    "                df.loc[row.name, col] = pscs[col_idx]\n",
    "\n",
    "    # counter for every 100 rows\n",
    "    if idx % 100 == 0:\n",
    "        print(f\"Processed {idx} rows\")\n",
    "\n",
    "# Assuming df is your final DataFrame\n",
    "metadata_cols1 = df.iloc[:, :49]\n",
    "metadata_cols2 = df.iloc[:, 20049:]\n",
    "\n",
    "# Concatenating the two slices into a new DataFrame\n",
    "new_df = pd.concat([metadata_cols1, metadata_cols2], axis=1)\n",
    "\n",
    "# Display the shape of the new DataFrame to verify\n",
    "print(new_df.shape)\n",
    "print(f\"Skipped {c} rows\")\n"
   ]
  },
  {
   "cell_type": "code",
   "execution_count": 22,
   "metadata": {},
   "outputs": [
    {
     "data": {
      "text/plain": [
       "[<matplotlib.lines.Line2D at 0x26215fde450>]"
      ]
     },
     "execution_count": 22,
     "metadata": {},
     "output_type": "execute_result"
    },
    {
     "data": {
      "image/png": "[encoded data removed]",
      "text/plain": [
       "<Figure size 640x480 with 1 Axes>"
      ]
     },
     "metadata": {},
     "output_type": "display_data"
    }
   ],
   "source": [
    "plt.figure()\n",
    "plt.plot( results[2][2] )"
   ]
  },
  {
   "cell_type": "code",
   "execution_count": 18,
   "metadata": {},
   "outputs": [
    {
     "name": "stdout",
     "output_type": "stream",
     "text": [
      "(4407, 145)\n"
     ]
    },
    {
     "name": "stderr",
     "output_type": "stream",
     "text": [
      "C:\\Users\\adity\\AppData\\Local\\Temp\\ipykernel_31428\\2517785655.py:3: PerformanceWarning: \n",
      "your performance may suffer as PyTables will pickle object types that it cannot\n",
      "map directly to c-types [inferred_type->mixed-integer,key->block5_values] [items->Index(['sex', 'unit', 'location', 'protocol', 'numSq', 'clampMode',\n",
      "       'clampPotential', 'condition', 'numPatterns', 'patternList',\n",
      "       'frameChangeTimes', 'pulseTimes', 'fieldData', 'peaks_cell',\n",
      "       'peaks_cell_norm', 'auc_cell', 'slope_cell', 'delay_cell',\n",
      "       'peaks_field', 'peaks_field_norm', 'cell_fpr', 'field_fpr', 'cell_ppr',\n",
      "       'cell_stpr', 'field_ppr', 'field_stpr', 'trialID', 'cellunit',\n",
      "       'fieldunit'],\n",
      "      dtype='object')]\n",
      "\n",
      "  new_df.to_hdf(data_path / \"all_cells_FreqSweep_VC_kernelfit_response_measurements.h5\", key='data', mode='w')\n"
     ]
    },
    {
     "name": "stdout",
     "output_type": "stream",
     "text": [
      "(2772, 145)\n"
     ]
    }
   ],
   "source": [
    "print(new_df.shape)\n",
    "# save df\n",
    "new_df.to_hdf(data_path / \"all_cells_FreqSweep_VC_kernelfit_response_measurements.h5\", key='data', mode='w')\n",
    "# save as excel\n",
    "new_df.to_excel(data_path / \"all_cells_FreqSweep_VC_kernelfit_response_measurements.xlsx\")\n",
    "\n",
    "# drop those rows from df that have NaN values in column 'valley_0'\n",
    "new_df = new_df.dropna(subset=['valley_0'])\n",
    "print(new_df.shape)\n"
   ]
  },
  {
   "cell_type": "code",
   "execution_count": 19,
   "metadata": {},
   "outputs": [
    {
     "name": "stderr",
     "output_type": "stream",
     "text": [
      "C:\\Users\\adity\\AppData\\Local\\Temp\\ipykernel_31428\\1705529343.py:2: PerformanceWarning: \n",
      "your performance may suffer as PyTables will pickle object types that it cannot\n",
      "map directly to c-types [inferred_type->mixed-integer,key->block5_values] [items->Index(['sex', 'unit', 'location', 'protocol', 'numSq', 'clampMode',\n",
      "       'clampPotential', 'condition', 'numPatterns', 'patternList',\n",
      "       'frameChangeTimes', 'pulseTimes', 'fieldData', 'peaks_cell',\n",
      "       'peaks_cell_norm', 'auc_cell', 'slope_cell', 'delay_cell',\n",
      "       'peaks_field', 'peaks_field_norm', 'cell_fpr', 'field_fpr', 'cell_ppr',\n",
      "       'cell_stpr', 'field_ppr', 'field_stpr', 'trialID', 'cellunit',\n",
      "       'fieldunit'],\n",
      "      dtype='object')]\n",
      "\n",
      "  new_df.to_hdf(data_path / \"all_cells_FreqSweep_VC_kernelfit_response_measurements_noNANs.h5\", key='data', mode='w')\n"
     ]
    }
   ],
   "source": [
    "# save df\n",
    "new_df.to_hdf(data_path / \"all_cells_FreqSweep_VC_kernelfit_response_measurements_noNANs.h5\", key='data', mode='w')\n",
    "# save as excel\n",
    "new_df.to_excel(data_path / \"all_cells_FreqSweep_VC_kernelfit_response_measurements_noNANs.xlsx\")"
   ]
  },
  {
   "cell_type": "code",
   "execution_count": null,
   "metadata": {},
   "outputs": [],
   "source": []
  }
 ],
 "metadata": {
  "kernelspec": {
   "display_name": "Python 3 (ipykernel)",
   "language": "python",
   "name": "python3"
  },
  "language_info": {
   "codemirror_mode": {
    "name": "ipython",
    "version": 3
   },
   "file_extension": ".py",
   "mimetype": "text/x-python",
   "name": "python",
   "nbconvert_exporter": "python",
   "pygments_lexer": "ipython3",
   "version": "3.11.4"
  }
 },
 "nbformat": 4,
 "nbformat_minor": 4
}
