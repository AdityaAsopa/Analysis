{
 "cells": [
  {
   "cell_type": "markdown",
   "metadata": {},
   "source": [
    "### Whole Cell Patch Clamp Recording Setup: Theory and Operation\n",
    "References: \n",
    "1. Multiclamp 700B User manual\n",
    "2. Axon Guide V Ed\n",
    "3. Single Channel Recording, Sakmann and Neher, 1995\n",
    "\n",
    "* Fast capacitive spikes (cp fast) recorded are due to pipette and the enclosed membrane patch. They should be neurtralized before breaking into the cell.\n",
    "\n",
    "* Gain settings should be selected for best possible resolution without hitting the saturation limit.\n",
    "    Feedback register (Rf) = 500 MΩ\n",
    "    Voltage clamp: Gain = 10 => 5 V/nA.     Range = +/- 2 nA,  Resolution = 2nA/16bits   = 0.03 pA/bit\n",
    "    Current clamp: Gain = 10 => 100 mV/mV.  Range = +/- 100mV, Resolution = 100mV/16bits = 1.52 µV/bit\n",
    "      \n",
    "\n",
    "* Breaking the patch:\n",
    "    + Access to the cell can be seen as sudden increase in capacitive transients and, \n",
    "    + depending on the input resistance of the cell, a shift in the current level or background noise.\n",
    "    + Smaller access resistance => larger capacitive transients, but shorted duration\n",
    "    + High levels of EGTA (10mM) buffers Ca+2 ions and prevents spontaneous increase in access resistance and resealing.\n",
    "\n",
    "\n",
    "* Capacitive trasient cancellation:\n",
    "    + If the Cp fast was neutralized before breaking into the cell, then all the new capacitance will be due to the cell capacitance (Cm).\n",
    "    + If cells have more complex geometry, there will be multiple capcitive time constants and neutralization will never be perfect or complete.\n",
    "      \n",
    "       \n",
    "* Series resistance compensation:\n",
    "    +\n"
   ]
  },
  {
   "cell_type": "markdown",
   "metadata": {},
   "source": [
    "1. Bath resistance (Rb) is additive to the Rm and therefore is indistinguishable from Rm and acts as an access resistance component. It is usually very low (~ 1 kΩ) but to keep it lower, larger surface area reference Ag/AgCl should be used.\n",
    "For a passing of current of ~ 1 nA, it would cause a potential drop of 1 µV.\n",
    "\n",
    "2. Bridge Balance: Used to subtract voltage drop across pipette resistance(Rp) in current clamp. When a current is passed through the pipette into the cell, the cell Vm changes. This Vm is read at the end of the pipette as Vp. The passing current causes a voltage drop across the pipette and cause a voltage drop of Vdrop = IxRp. This unwanted voltage drop is added to the recorded potential. Bridge balance removes this drop so that only Vm is recorded.\n",
    "\n",
    "When done in the bath: The bridge balance gives the value of resistance of the pipette.\n",
    "When done is the cell: Pipette capacitance neutralization should be set the same time as the bridge balance. The pipette resistance and capacitance can change after the whole cell is established, so it is a good idea to monitor the bridge balance and pipette capacitance regularly while in the cell.\n",
    "\n",
    "3. Capacitance compensation in Voltage clamp\n",
    "Electrode:  Cp fast component, represented as capacitance at headstage input and,\n",
    "            Cp slow component, represented as a capacitor parallel to Rs\n",
    "            This is done by supplying the required fast current through a capacitor instead of letting it pass through Rf.\n",
    "Cell     :  Whole cell capacitance (Cm)\n",
    "            The time constant of whole cell capacitance transient is determined by the product of Cm and series resistance (Rs). If this becomes large, the transients can last longer causing distortion in cellular currents of interest. It is therefore, desirable to compensate for the cell capacitance. Also, whole cell capacitance compensation is required to compensate the series resistance.\n",
    "            Our measure of cellular currents comes via feedback resistors. Whole cell capacitive compensation works by offloading the task of charging the cellular capacitor from Rf to a fast capacitor."
   ]
  }
 ],
 "metadata": {
  "interpreter": {
   "hash": "efceb7404fb9811cf40b75e40bd8d8d061e2563981c73d0ff752e54aeb51c26e"
  },
  "kernelspec": {
   "display_name": "Python 3.7.9 64-bit ('venv-lab': venv)",
   "name": "python3"
  },
  "language_info": {
   "codemirror_mode": {
    "name": "ipython",
    "version": 3
   },
   "file_extension": ".py",
   "mimetype": "text/x-python",
   "name": "python",
   "nbconvert_exporter": "python",
   "pygments_lexer": "ipython3",
   "version": "3.7.9"
  }
 },
 "nbformat": 4,
 "nbformat_minor": 4
}
