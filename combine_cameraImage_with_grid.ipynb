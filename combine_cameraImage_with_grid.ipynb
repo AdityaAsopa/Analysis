{
 "cells": [
  {
   "cell_type": "code",
   "execution_count": null,
   "metadata": {},
   "outputs": [],
   "source": [
    "import numpy as np\n",
    "from scipy.optimize import curve_fit\n",
    "from PIL import Image, ImageOps\n",
    "from eidynamics import generate_camera_image\n",
    "from eidynamics import pattern_index"
   ]
  },
  {
   "cell_type": "code",
   "execution_count": null,
   "id": "2b22bdc8",
   "metadata": {},
   "outputs": [],
   "source": [
    "import pathlib\n",
    "import importlib"
   ]
  },
  {
   "cell_type": "code",
   "execution_count": null,
   "id": "e0e92b7e",
   "metadata": {},
   "outputs": [],
   "source": [
    "bfi = \"C:\\\\users\\\\adity\\\\OneDrive\\\\NCBS\\\\Lab\\\\Projects\\\\EI_Dynamics\\\\Analysis\\\\testExamples\\\\slice_IR.bmp\"\n",
    "fli = \"C:\\\\users\\\\adity\\\\OneDrive\\\\NCBS\\\\Lab\\\\Projects\\\\EI_Dynamics\\\\Analysis\\\\testExamples\\\\slice_tdTom.bmp\""
   ]
  },
  {
   "cell_type": "code",
   "execution_count": null,
   "id": "570c12f2",
   "metadata": {},
   "outputs": [],
   "source": [
    "importlib.reload(generate_camera_image)\n",
    "im = generate_camera_image.main(bfi,fluor_file=fli)\n",
    "im.show()"
   ]
  },
  {
   "cell_type": "code",
   "execution_count": null,
   "metadata": {},
   "outputs": [],
   "source": [
    "class Frame():\n",
    "    def __init__(self, offset, channel='tdTomato'):\n",
    "        self.LUT = {'tdTomato':(255,174,127,255),\n",
    "                    'eYFP'   :(234,255,127,255),\n",
    "                    'GFP'    :(127,255,127,255),\n",
    "                    'IR'     :(200,200,200,255),\n",
    "                    'grey'   :(200,200,200,255)}\n",
    "\n",
    "        self.channel=channel\n",
    "        self.channel_color = self.LUT[channel][:3]\n",
    "        self.offset = offset\n",
    "        self.mode   = ''\n",
    "        self.alpha  = 1.0\n",
    "        self.mask   = []\n",
    "\n",
    "    def set_image(self,image):\n",
    "        self.image  = image\n",
    "        self.size   = self.image.size\n",
    "        self.height,self.width = self.size\n",
    "        self.mode   = self.image.mode\n",
    "\n",
    "    def add_layer(self,new_layer_image,ofx,ofy):\n",
    "        im1 = self.image\n",
    "        im2 = new_layer_image\n",
    "        # ofx = frameObj.offset[0]\n",
    "        # ofy = frameObj.offset[1]\n",
    "        new_image = im1.paste(im2,(ofx,ofy),mask=im2)\n",
    "        return new_image\n",
    "\n",
    "    def make_background_transparent(self,input_image,background_color=(0,0,0)):\n",
    "        image = input_image.convert('RGBA')\n",
    "        bgR,bgG,bgB = background_color\n",
    "        # Transparency\n",
    "        newImage = []\n",
    "        for item in image.getdata():\n",
    "            if item[:3] == background_color:\n",
    "                new_color = (bgR,bgG,bgB,0)\n",
    "                newImage.append(new_color)\n",
    "            else:\n",
    "                newImage.append(item)\n",
    "\n",
    "        image.putdata(newImage)\n",
    "\n",
    "        return image\n",
    "\n",
    "    def apply_LUT(self,channel_color):\n",
    "        im1 = self.image.convert('L')\n",
    "        im2 = ImageOps.colorize(im1,black=(0,0,0),white=(255,255,255),mid=channel_color)\n",
    "        return im2\n",
    "\n",
    "    def set_mask():\n",
    "        pass\n"
   ]
  },
  {
   "cell_type": "code",
   "execution_count": null,
   "id": "bb7561ab",
   "metadata": {},
   "outputs": [],
   "source": [
    "imageFile = \"C:\\\\Users\\\\adity\\\\OneDrive\\\\NCBS\\\\Lab\\\\Projects\\\\EI_Dynamics\\\\Analysis\\\\testExamples\\\\slice1_tdTom.bmp\""
   ]
  },
  {
   "cell_type": "code",
   "execution_count": null,
   "id": "99a761ca",
   "metadata": {},
   "outputs": [],
   "source": [
    "def pixel_scaling(x,m,c):\n",
    "    y = m*np.array(x) + c\n",
    "    return y\n",
    "\n",
    "def calculate_offset(x=[0.25,0.5,0.75],y=[0.25,0.5,0.75],cx=[285,642,1002],cy=[341,535,730]):\n",
    "    '''\n",
    "    Data from 24 Dec 2021 Calibration\n",
    "        Polygon Frame Fraction\t\tCamera Pixel Number\t\n",
    "\t\tx\t    y\t                cx\t    cy\n",
    "\t\t0.25\t0.25\t            285\t    341\n",
    "\t\t0.5\t    0.5\t                642\t    535\n",
    "\t\t0.75\t0.75\t            1002\t730\n",
    "\t\t0.125\t0.125\t            106\t    244\n",
    "\t\t0.625\t0.25\t            822\t    632\n",
    "\t\t0.375\t0.375\t            464\t    439\n",
    "\t\t0.875\t0.875\t            1183\t827\n",
    "    '''\n",
    "    poptx,_              = curve_fit(pixel_scaling,x,cx)\n",
    "    popty,_              = curve_fit(pixel_scaling,y,cy)\n",
    "\n",
    "    x0,y0 = [pixel_scaling(0,*poptx), pixel_scaling(0,*popty)]\n",
    "    x1,y1 = [pixel_scaling(1,*poptx), pixel_scaling(1,*popty)]\n",
    "\n",
    "    polygon_frame_properties =  {   \n",
    "                                'top_left'      :[x0,y0],\n",
    "                                'top_right'     :[x1,y0],\n",
    "                                'bottom_right'  :[x0,y1],\n",
    "                                'bottom_left'   :[x1,y1],\n",
    "                                'width'         : x1-x0,\n",
    "                                'height'        : y1-y0,\n",
    "                                'aspect_ratio'  :(x1-x0) / (y1-y0),\n",
    "                                'scaling'       :[round((x1-x0)/24), round((y1-y0)/24)],\n",
    "                                'offsetx'       : int(x0),\n",
    "                                'offsety'       : int(y0),\n",
    "                                }\n",
    "\n",
    "    return polygon_frame_properties"
   ]
  },
  {
   "cell_type": "code",
   "execution_count": null,
   "id": "3ea915f9",
   "metadata": {},
   "outputs": [],
   "source": [
    "def draw_polygon_frame(sqSet=[],grid_size=24,draw_grid=True):\n",
    "    pixels = np.zeros((grid_size*grid_size,1))\n",
    "    pixels[sqSet] = 1\n",
    "    frameArray = np.reshape(pixels,(grid_size,grid_size))\n",
    "    frameImage = Image.fromarray(frameArray*255).convert('RGBA')\n",
    "\n",
    "    frame_properties = calculate_offset()\n",
    "    scaling = frame_properties['scaling']\n",
    "    frameLarge = frameImage.resize(np.multiply(frameImage.size,scaling),0)\n",
    "\n",
    "    if draw_grid:\n",
    "        grid = np.zeros(frameLarge.size).T\n",
    "        grid[:,::scaling[0]] = 1\n",
    "        grid[::scaling[1],:] = 1\n",
    "        gridImage = Image.fromarray(grid*255).convert('RGBA')\n",
    "\n",
    "        polygon_frame_image = Image.blend(frameLarge,gridImage,0.3)\n",
    "    else:\n",
    "        polygon_frame_image = frameLarge\n",
    "\n",
    "    output_image = replace_color_with_transparency(polygon_frame_image)\n",
    "\n",
    "    return output_image,frame_properties\n"
   ]
  },
  {
   "cell_type": "code",
   "execution_count": null,
   "id": "bfd81552",
   "metadata": {},
   "outputs": [],
   "source": [
    "def replace_color_with_transparency(input_image,remove_color=(0,0,0)):\n",
    "    image = input_image.convert('RGBA')\n",
    "\n",
    "    # Transparency\n",
    "    newImage = []\n",
    "    for item in image.getdata():\n",
    "        if item[:3] == remove_color:\n",
    "            new_color = (remove_color[0],remove_color[1],remove_color[2],0)\n",
    "            newImage.append(new_color)\n",
    "        else:\n",
    "            newImage.append(item)\n",
    "\n",
    "    image.putdata(newImage)\n",
    "\n",
    "    return image\n",
    "    "
   ]
  },
  {
   "cell_type": "code",
   "execution_count": null,
   "id": "595765af",
   "metadata": {},
   "outputs": [],
   "source": [
    "camframe = Frame(offset=[0,0],channel='IR')"
   ]
  },
  {
   "cell_type": "code",
   "execution_count": null,
   "id": "37dc9316",
   "metadata": {},
   "outputs": [],
   "source": [
    "camfile = \"C:\\\\Users\\\\adity\\\\OneDrive\\\\NCBS\\\\Lab\\\\Projects\\\\EI_Dynamics\\\\Data\\\\21-12-31_G620\\\\6201_CA3.bmp\""
   ]
  },
  {
   "cell_type": "code",
   "execution_count": null,
   "id": "dd6e5bb9",
   "metadata": {},
   "outputs": [],
   "source": [
    "# with Image.open(camfile,'r') as c:\n",
    "camImage = Image.open(camfile)\n",
    "camframe.set_image(camImage)"
   ]
  },
  {
   "cell_type": "code",
   "execution_count": null,
   "id": "457fea2f",
   "metadata": {},
   "outputs": [],
   "source": [
    "polyImage,polyImProp = draw_polygon_frame(sqSet=pattern_index.patternID[999])"
   ]
  },
  {
   "cell_type": "code",
   "execution_count": null,
   "id": "6f01072e",
   "metadata": {},
   "outputs": [],
   "source": [
    "polyframe = Frame(offset=[polyImProp['offsetx'],polyImProp['offsety']],channel='GFP')"
   ]
  },
  {
   "cell_type": "code",
   "execution_count": null,
   "id": "f06259d1",
   "metadata": {},
   "outputs": [],
   "source": [
    "polyframe.set_image(polyImage)\n",
    "# newImage = polyframe.apply_LUT(polyframe.channel_color)"
   ]
  },
  {
   "cell_type": "code",
   "execution_count": null,
   "id": "81731099",
   "metadata": {},
   "outputs": [],
   "source": [
    "newImage = polyframe.apply_LUT(polyframe.channel_color)"
   ]
  },
  {
   "cell_type": "code",
   "execution_count": null,
   "id": "8700bd4a",
   "metadata": {},
   "outputs": [],
   "source": [
    "newImage2 = polyframe.make_background_transparent(newImage)"
   ]
  },
  {
   "cell_type": "code",
   "execution_count": null,
   "id": "3f584c04",
   "metadata": {},
   "outputs": [],
   "source": [
    "image3 = camframe.add_layer(newImage2,polyframe.offset[0],polyframe.offset[1])"
   ]
  },
  {
   "cell_type": "code",
   "execution_count": null,
   "id": "61125a4d",
   "metadata": {},
   "outputs": [],
   "source": [
    "camframe.image"
   ]
  },
  {
   "cell_type": "code",
   "execution_count": null,
   "id": "54ae918f",
   "metadata": {},
   "outputs": [],
   "source": [
    "def add_offset(input_image, left, top, right, bottom, color=(0,0,0)):\n",
    "    width, height = input_image.size\n",
    "    new_width = width + right + left\n",
    "    new_height = height + top + bottom\n",
    "    canvas = Image.new(input_image.mode, (new_width, new_height), color)\n",
    "    canvas.paste(input_image, (left, top))\n",
    "    return canvas"
   ]
  },
  {
   "cell_type": "code",
   "execution_count": null,
   "id": "16597a23",
   "metadata": {},
   "outputs": [],
   "source": [
    "im1 = camImage.copy().convert('RGBA')\n",
    "maask = newImage2.getchannel('A')\n",
    "im1.paste(newImage2,(-75,146),mask=newImage2)"
   ]
  },
  {
   "cell_type": "code",
   "execution_count": null,
   "id": "db107987",
   "metadata": {},
   "outputs": [],
   "source": [
    "camImage"
   ]
  },
  {
   "cell_type": "code",
   "execution_count": null,
   "id": "054175ee",
   "metadata": {},
   "outputs": [],
   "source": []
  }
 ],
 "metadata": {
  "interpreter": {
   "hash": "efceb7404fb9811cf40b75e40bd8d8d061e2563981c73d0ff752e54aeb51c26e"
  },
  "kernelspec": {
   "display_name": "Python 3.7.9 32-bit ('venv-lab': venv)",
   "name": "python3"
  },
  "language_info": {
   "codemirror_mode": {
    "name": "ipython",
    "version": 3
   },
   "file_extension": ".py",
   "mimetype": "text/x-python",
   "name": "python",
   "nbconvert_exporter": "python",
   "pygments_lexer": "ipython3",
   "version": "3.7.9"
  }
 },
 "nbformat": 4,
 "nbformat_minor": 5
}
