{
 "cells": [
  {
   "cell_type": "code",
   "execution_count": null,
   "id": "beb5097e",
   "metadata": {},
   "outputs": [],
   "source": [
    "import numpy as np\n",
    "import matplotlib.pyplot as plt\n",
    "%matplotlib widget\n",
    "import importlib\n",
    "import pandas as pd"
   ]
  },
  {
   "cell_type": "code",
   "execution_count": null,
   "id": "0b5e54c3",
   "metadata": {},
   "outputs": [],
   "source": [
    "from eidynamics import utils"
   ]
  },
  {
   "cell_type": "code",
   "execution_count": null,
   "id": "22196012",
   "metadata": {},
   "outputs": [],
   "source": [
    "def kernel_convoluted_firing_rate(spiketrain, sigma, Fs=2e4, kernel='alpha'):\n",
    "    size = 6*sigma\n",
    "    t    = np.linspace(-size/2, size/2, int(2e4*size))\n",
    "    alpha= 1/sigma\n",
    "\n",
    "    alphafilt = ( ((alpha**2)*t ) * np.exp(-alpha*t) )\n",
    "    alphafilt = np.where(alphafilt<0, 0, alphafilt)\n",
    "    alphafilt = alphafilt / np.sum(alphafilt)\n",
    "\n",
    "    kcfr = np.convolve(spiketrain, alphafilt, mode=\"valid\")\n",
    "\n",
    "    return kcfr, alphafilt"
   ]
  },
  {
   "cell_type": "code",
   "execution_count": null,
   "id": "f9bac33e",
   "metadata": {},
   "outputs": [],
   "source": [
    "spikedata = utils.poisson_train(30, 1, 10, plot_raster=True)"
   ]
  },
  {
   "cell_type": "code",
   "execution_count": null,
   "id": "13899a03",
   "metadata": {},
   "outputs": [],
   "source": [
    "spiketrain = spikedata[0][0]\n",
    "time = spikedata[-1]"
   ]
  },
  {
   "cell_type": "code",
   "execution_count": null,
   "id": "9e33dae7",
   "metadata": {},
   "outputs": [],
   "source": [
    "p = np.where(spiketrain)[0]"
   ]
  },
  {
   "cell_type": "code",
   "execution_count": null,
   "id": "7df31095",
   "metadata": {},
   "outputs": [],
   "source": [
    "spiketrain_filtered = spiketrain.copy()"
   ]
  },
  {
   "cell_type": "code",
   "execution_count": null,
   "id": "56c26d85",
   "metadata": {},
   "outputs": [],
   "source": [
    "plt.figure()\n",
    "plt.plot(1+spiketrain_filtered[12000:13500], 'r')\n",
    "plt.plot(spiketrain[12000:13500], 'b')"
   ]
  },
  {
   "cell_type": "code",
   "execution_count": null,
   "id": "3c0e955c",
   "metadata": {},
   "outputs": [],
   "source": [
    "\n",
    "omit_spikes = []\n",
    "kept_spikes = []\n",
    "\n",
    "for i,pp in enumerate(p[:-1]):\n",
    "\n",
    "    spike_loc1 = p[i]\n",
    "    spike_loc2 = p[i+1]\n",
    "    \n",
    "    if spike_loc2-spike_loc1 < 200:\n",
    "        omit_spikes.append(spike_loc2)\n",
    "\n",
    "\n",
    "print(*kept_spikes, sep='\\n')\n",
    "spiketrain_filtered[omit_spikes] = 0\n",
    "q = np.where(spiketrain_filtered)[0]"
   ]
  },
  {
   "cell_type": "code",
   "execution_count": null,
   "id": "3e1a2b62",
   "metadata": {},
   "outputs": [],
   "source": []
  },
  {
   "cell_type": "code",
   "execution_count": null,
   "id": "7b05fad2",
   "metadata": {},
   "outputs": [],
   "source": [
    "plt.figure()\n",
    "plt.plot(1+spiketrain_filtered[12000:13500], 'r')\n",
    "plt.plot(spiketrain[12000:13500], 'b')\n",
    "# plt.figure()\n",
    "\n",
    "\n",
    "plt.show()"
   ]
  },
  {
   "cell_type": "code",
   "execution_count": null,
   "id": "4c4ee5e9",
   "metadata": {},
   "outputs": [],
   "source": [
    "for loc in q:\n",
    "    spiketrain_filtered[loc:loc+10] = 1"
   ]
  },
  {
   "cell_type": "code",
   "execution_count": null,
   "id": "74459be8",
   "metadata": {},
   "outputs": [],
   "source": [
    "plt.figure()\n",
    "plt.plot(1+spiketrain_filtered[12000:13500], 'r')\n",
    "plt.plot(spiketrain[12000:13500], 'b')"
   ]
  },
  {
   "cell_type": "code",
   "execution_count": null,
   "id": "9921ae8e",
   "metadata": {},
   "outputs": [],
   "source": [
    "sweeplength = 13.0 #seconds\n",
    "datapoints  = 13.0*2e4\n",
    "\n",
    "epochA = (0,0.200)\n",
    "epochB = (0.200,0.201)\n",
    "epochC = (0.201,1.000)\n",
    "epochD = (1.000,11.000)\n",
    "epochE = (11.000,13.000)"
   ]
  },
  {
   "cell_type": "code",
   "execution_count": null,
   "id": "6f850c2a",
   "metadata": {},
   "outputs": [],
   "source": [
    "output_spike_trace = np.zeros((int(13*2e4),5))"
   ]
  },
  {
   "cell_type": "code",
   "execution_count": null,
   "id": "911625fb",
   "metadata": {},
   "outputs": [],
   "source": [
    "trace = np.zeros((int(13*2e4)))"
   ]
  },
  {
   "cell_type": "code",
   "execution_count": null,
   "id": "68cf7740",
   "metadata": {},
   "outputs": [],
   "source": [
    "trace[4000:4020] = 1\n",
    "trace[20000:220000] = spiketrain_filtered"
   ]
  },
  {
   "cell_type": "code",
   "execution_count": null,
   "id": "3b534369",
   "metadata": {},
   "outputs": [],
   "source": [
    "plt.figure()\n",
    "plt.plot(trace)\n",
    "plt.show()"
   ]
  },
  {
   "cell_type": "code",
   "execution_count": null,
   "id": "407c2f8c",
   "metadata": {},
   "outputs": [],
   "source": [
    "trace = trace.reshape(len(trace),-1)"
   ]
  },
  {
   "cell_type": "code",
   "execution_count": null,
   "id": "adb762c7",
   "metadata": {},
   "outputs": [],
   "source": [
    "output_trace = np.concatenate((trace,trace,trace,trace,trace), axis=1)"
   ]
  },
  {
   "cell_type": "code",
   "execution_count": null,
   "id": "5ea8e60f",
   "metadata": {},
   "outputs": [],
   "source": [
    "np.savetxt(\"spike_train_13s_5sweeps.txt\", output_trace)"
   ]
  },
  {
   "cell_type": "code",
   "execution_count": null,
   "id": "c9ea2023",
   "metadata": {},
   "outputs": [],
   "source": [
    "acfr, alphafilt = kernel_convoluted_firing_rate(spiketrain, sigma=0.1)\n",
    "acfr"
   ]
  },
  {
   "cell_type": "code",
   "execution_count": null,
   "id": "9337f6a3",
   "metadata": {},
   "outputs": [],
   "source": [
    "alphafilt.shape"
   ]
  },
  {
   "cell_type": "code",
   "execution_count": null,
   "id": "eb16b7dd",
   "metadata": {},
   "outputs": [],
   "source": [
    "plt.close('all')\n",
    "plt.figure()\n",
    "plt.plot(alphafilt)\n",
    "plt.show()"
   ]
  },
  {
   "cell_type": "code",
   "execution_count": null,
   "id": "ad3dc607",
   "metadata": {},
   "outputs": [],
   "source": [
    "plt.close('all')\n",
    "x =20000* acfr[::100]\n",
    "plt.figure()\n",
    "plt.plot(np.linspace(0, len(acfr)/2e4, len(acfr)), 2e4*acfr)\n",
    "plt.show()"
   ]
  },
  {
   "cell_type": "code",
   "execution_count": null,
   "id": "abac2492",
   "metadata": {},
   "outputs": [],
   "source": []
  }
 ],
 "metadata": {
  "interpreter": {
   "hash": "0f349a44ef3df8d9997ebac64c8558088ee50a8dceaefcae221032d30bc2ac8d"
  },
  "kernelspec": {
   "display_name": "Python 3.7.9 ('venv-ephys')",
   "language": "python",
   "name": "python3"
  },
  "language_info": {
   "codemirror_mode": {
    "name": "ipython",
    "version": 3
   },
   "file_extension": ".py",
   "mimetype": "text/x-python",
   "name": "python",
   "nbconvert_exporter": "python",
   "pygments_lexer": "ipython3",
   "version": "3.7.9"
  }
 },
 "nbformat": 4,
 "nbformat_minor": 5
}
