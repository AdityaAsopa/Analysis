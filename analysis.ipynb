{
 "cells": [
  {
   "cell_type": "code",
   "execution_count": null,
   "source": [
    "\"\"\"\r\n",
    "Created on Friday 12th March 2021\r\n",
    "@author: Aditya Asopa, Bhalla Lab, NCBS\r\n",
    "\"\"\"\r\n",
    "## Import libraries\r\n",
    "from eidynamics import plotMaker\r\n",
    "import sys\r\n",
    "import os\r\n",
    "import imp\r\n",
    "import matplotlib.pyplot as plt\r\n",
    "import pandas as pd\r\n",
    "import pickle\r\n",
    "import eidynamics\r\n",
    "from eidynamics import ePhysClasses\r\n",
    "from eidynamics.plotmaker import makeplots\r\n",
    "import seaborn as sns"
   ],
   "outputs": [],
   "metadata": {}
  },
  {
   "cell_type": "code",
   "execution_count": null,
   "source": [
    "inputABFfile = \"C:\\\\Users\\\\adity\\\\OneDrive\\\\NCBS\\\\Lab\\\\Projects\\\\EI_Dynamics\\\\Analysis\\\\testExamples\\\\cell3191\\\\2021_05_12_0009_rec.abf\""
   ],
   "outputs": [],
   "metadata": {}
  },
  {
   "cell_type": "code",
   "execution_count": null,
   "source": [
    "#Get the path\r\n",
    "datafile = os.path.realpath(inputABFfile)\r\n",
    "exptDir = os.path.dirname(datafile)\r\n",
    "exptFile = os.path.basename(datafile)\r\n",
    "fileID = exptFile.split('_rec')[0]\r\n",
    "epFile = exptDir + \"\\\\\" + fileID + \"_ExperimentParameters.py\"\r\n",
    "epFile = os.path.abspath(epFile)"
   ],
   "outputs": [],
   "metadata": {}
  },
  {
   "cell_type": "code",
   "execution_count": null,
   "source": [
    "eP = imp.load_source('ExptParams',epFile)"
   ],
   "outputs": [],
   "metadata": {}
  },
  {
   "cell_type": "code",
   "execution_count": null,
   "source": [
    "# Import Experiment Variables\r\n",
    "try:\r\n",
    "    print (\"Looking for experiment parameters locally\")\r\n",
    "    eP = imp.load_source('ExptParams',epFile)\r\n",
    "    assert (eP.datafile == exptFile),\"Datafile mismatch! Make sure the data file in experiment parameters is same as recording file supplied.\"\r\n",
    "    print('Experiment parameters loaded from: ',epFile)\r\n",
    "except:\r\n",
    "    print (\"Experiment Parameters required or data file mismatch. Quitting!\")\r\n",
    "    exit"
   ],
   "outputs": [],
   "metadata": {}
  },
  {
   "cell_type": "code",
   "execution_count": null,
   "source": [
    "# importing stimulation coordinates\r\n",
    "try:\r\n",
    "    coordfileName = eP.polygonProtocol    \r\n",
    "    coordfile = os.path.join(os.getcwd(),\"polygonProtocols\",coordfileName)\r\n",
    "    os.path.isfile(coordfile)\r\n",
    "    print('Local coord file loaded from: ',coordfile)\r\n",
    "except:\r\n",
    "    print('No coord file found, probably there isn\\'t one')\r\n",
    "    coordfile = ''"
   ],
   "outputs": [],
   "metadata": {}
  },
  {
   "cell_type": "code",
   "execution_count": null,
   "source": [
    "# Recording cell data and analyses\r\n",
    "cellFile = exptDir + \"\\\\\" + \"cell.pkl\"\r\n",
    "cellFile_csv = exptDir + \"\\\\\" + \"cell.csv\"\r\n",
    "print(cellFile)"
   ],
   "outputs": [],
   "metadata": {}
  },
  {
   "cell_type": "code",
   "execution_count": null,
   "source": [
    "cellFile = \"C:\\\\Users\\\\adity\\\\OneDrive\\\\NCBS\\\\Lab\\\\Projects\\\\EI_Dynamics\\\\Analysis\\\\testExamples\\\\cell2941\\\\cell.pkl\""
   ],
   "outputs": [],
   "metadata": {}
  },
  {
   "cell_type": "code",
   "execution_count": null,
   "source": [
    "# cell = ePhysClasses.Neuron(eP)\r\n",
    "try:\r\n",
    "    cell = ePhysClasses.Neuron.loadCell(cellFile)\r\n",
    "    print('Loaded local cell data')\r\n",
    "except:\r\n",
    "    print('Local cell data not found, creating new cell.')\r\n",
    "    cell = ePhysClasses.Neuron(eP)"
   ],
   "outputs": [],
   "metadata": {}
  },
  {
   "cell_type": "code",
   "execution_count": null,
   "source": [
    "cell.addExperiment(datafile=datafile,coordfile=coordfile,exptParams=eP)"
   ],
   "outputs": [],
   "metadata": {
    "tags": []
   }
  },
  {
   "cell_type": "code",
   "execution_count": null,
   "source": [
    "len(cell.response)"
   ],
   "outputs": [],
   "metadata": {}
  },
  {
   "cell_type": "code",
   "execution_count": null,
   "source": [
    "cell.response.to_csv(cellFile_csv)\r\n",
    "cell.response.to_excel(cellFile_csv)\r\n",
    "ePhysClasses.Neuron.saveCell(cell,cellFile)\r\n"
   ],
   "outputs": [],
   "metadata": {}
  },
  {
   "cell_type": "code",
   "execution_count": null,
   "source": [
    "cell.experiment"
   ],
   "outputs": [],
   "metadata": {}
  },
  {
   "cell_type": "code",
   "execution_count": null,
   "source": [
    "x = cell.response"
   ],
   "outputs": [],
   "metadata": {}
  },
  {
   "cell_type": "code",
   "execution_count": null,
   "source": [
    "# # Plots\r\n",
    "plt.figure()\r\n",
    "fig = makeplots(cellFile,ploty=\"peakRes\",gridRow=\"numSquares\",plotby=\"EI\",clipSpikes=True)\r\n",
    "fig.set(ylim=(0,20))"
   ],
   "outputs": [],
   "metadata": {}
  },
  {
   "cell_type": "code",
   "execution_count": null,
   "source": [
    "# # Plots\r\n",
    "plt.figure()\r\n",
    "fig = makeplots(cellFile,ploty=\"peakRes\",gridRow=\"numSquares\",plotby=\"PatternID\",clipSpikes=True)\r\n",
    "fig.set(ylim=(0,20))"
   ],
   "outputs": [],
   "metadata": {}
  },
  {
   "cell_type": "code",
   "execution_count": null,
   "source": [
    "# # Plots\r\n",
    "plt.figure()\r\n",
    "fig = makeplots(cellFile,ploty=\"peakRes\",gridRow=\"PatternID\",plotby=\"Repeat\",clipSpikes=True)\r\n",
    "fig.set(ylim=(0,20))"
   ],
   "outputs": [],
   "metadata": {}
  },
  {
   "cell_type": "code",
   "execution_count": null,
   "source": [
    "makeplots(cellFile,ploty=\"peakTime\",gridRow=\"numSquares\",plotby=\"EI\",clipSpikes=True)\r\n",
    "makeplots(cellFile,ploty=\"peakTime\",gridRow=\"numSquares\",plotby=\"PatternID\",clipSpikes=True)\r\n",
    "makeplots(cellFile,ploty=\"peakTime\",gridRow=\"PatternID\",plotby=\"Repeat\",clipSpikes=True)\r\n"
   ],
   "outputs": [],
   "metadata": {}
  }
 ],
 "metadata": {
  "kernelspec": {
   "name": "python3",
   "display_name": "Python 3.7.9 64-bit ('venv-lab': venv)"
  },
  "language_info": {
   "codemirror_mode": {
    "name": "ipython",
    "version": 3
   },
   "file_extension": ".py",
   "mimetype": "text/x-python",
   "name": "python",
   "nbconvert_exporter": "python",
   "pygments_lexer": "ipython3",
   "version": "3.7.9"
  },
  "interpreter": {
   "hash": "efceb7404fb9811cf40b75e40bd8d8d061e2563981c73d0ff752e54aeb51c26e"
  }
 },
 "nbformat": 4,
 "nbformat_minor": 4
}