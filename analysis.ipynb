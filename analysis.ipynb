{
 "cells": [
  {
   "cell_type": "code",
   "execution_count": 1,
   "metadata": {},
   "outputs": [],
   "source": [
    "\"\"\"\n",
    "Created on Friday 12th March 2021\n",
    "\n",
    "@author: Aditya Asopa, Bhalla Lab, NCBS\n",
    "\n",
    "\"\"\"\n",
    "## Import libraries\n",
    "import sys\n",
    "import os\n",
    "import EIDynamics\n",
    "import imp\n",
    "import pandas as pd\n",
    "import pickle\n",
    "from plotMaker import plotMaker"
   ]
  },
  {
   "cell_type": "code",
   "execution_count": 86,
   "metadata": {},
   "outputs": [
    {
     "name": "stdout",
     "output_type": "stream",
     "text": [
      "C:\\Users\\adity\\OneDrive\\NCBS\\Lab\\Projects\\EI_Dynamics\\Data\\21-04-16_G294\\cell1\\2021_04_16_0007_rec.abf\n"
     ]
    }
   ],
   "source": [
    "datafile = os.path.realpath('C:\\\\Users\\\\adity\\\\OneDrive\\\\NCBS\\\\Lab\\\\Projects\\\\EI_Dynamics\\\\Data\\\\21-04-16_G294\\\\cell1\\\\2021_04_16_0007_rec.abf')\n",
    "print(datafile)"
   ]
  },
  {
   "cell_type": "code",
   "execution_count": 87,
   "metadata": {},
   "outputs": [
    {
     "name": "stdout",
     "output_type": "stream",
     "text": [
      "C:\\Users\\adity\\OneDrive\\NCBS\\Lab\\Projects\\EI_Dynamics\\Data\\21-04-16_G294\\cell1\\2021_04_16_0007_ExperimentParameters.py\n"
     ]
    }
   ],
   "source": [
    "#Get the path\n",
    "# datafile = os.path.realpath(sys.argv[1])\n",
    "exptDir = os.path.dirname(datafile)\n",
    "exptFile = os.path.basename(datafile)\n",
    "fileID = exptFile.split('_rec')[0]\n",
    "epFile = exptDir + \"\\\\\" + fileID + \"_ExperimentParameters.py\"\n",
    "epFile = os.path.abspath(epFile)\n",
    "\n",
    "print(epFile)"
   ]
  },
  {
   "cell_type": "code",
   "execution_count": 88,
   "metadata": {},
   "outputs": [
    {
     "name": "stdout",
     "output_type": "stream",
     "text": [
      "Looking for experiment parameters locally\n",
      "Local parameters loaded\n"
     ]
    }
   ],
   "source": [
    "# Import Experiment Variables\n",
    "try:\n",
    "    print (\"Looking for experiment parameters locally\")\n",
    "    eP = imp.load_source('ExptParams',epFile)\n",
    "    print('Local parameters loaded')\n",
    "except:\n",
    "    print (\"No special instructions, using default variables.\")\n",
    "    try:\n",
    "        import ExperimentParameters_Default as eP\n",
    "    except:\n",
    "        print (\"No analysis variable found!\")"
   ]
  },
  {
   "cell_type": "code",
   "execution_count": 89,
   "metadata": {},
   "outputs": [
    {
     "name": "stdout",
     "output_type": "stream",
     "text": [
      "Loading local coord file\n"
     ]
    }
   ],
   "source": [
    "# importing stimulation coordinates\n",
    "try:\n",
    "    coordfile = exptDir + \"\\\\\" + fileID + \"_coords.txt\"\n",
    "    os.path.isfile(coordfile)\n",
    "    print('Loading local coord file')  \n",
    "except:\n",
    "    print('No coord file found, probably there isn\\'t one')\n",
    "    coordfile = ''"
   ]
  },
  {
   "cell_type": "code",
   "execution_count": 90,
   "metadata": {},
   "outputs": [
    {
     "name": "stdout",
     "output_type": "stream",
     "text": [
      "Loading local cell data from C:\\Users\\adity\\OneDrive\\NCBS\\Lab\\Projects\\EI_Dynamics\\Data\\21-04-16_G294\\cell1\\cell.pkl\n"
     ]
    }
   ],
   "source": [
    "# Recording cell data and analyses\n",
    "try:\n",
    "    cellFile = exptDir + \"\\\\\" + \"cell.pkl\"    \n",
    "    print('Loading local cell data from {}'.format(cellFile))\n",
    "    cell.response = pd.read_pickle(cellFile)\n",
    "except:\n",
    "    print('Local cell data not found, creating new cell')\n",
    "    cell = EIDynamics.Neuron(eP)"
   ]
  },
  {
   "cell_type": "code",
   "execution_count": 91,
   "metadata": {},
   "outputs": [
    {
     "name": "stdout",
     "output_type": "stream",
     "text": [
      "Loading ABF file\n",
      "Datafile has 24 sweeps in 5 channels: \n",
      " Ch0: Cell, \n",
      " Ch1: FrameTTL, \n",
      " Ch2: Photodiode, \n",
      " Time: Time Axis, \n",
      " cmd: Ch0 Command Signal\n"
     ]
    }
   ],
   "source": [
    "cell.createExperiment(datafile=datafile,coordfile=coordfile,exptParams=eP)"
   ]
  },
  {
   "cell_type": "code",
   "execution_count": 92,
   "metadata": {},
   "outputs": [
    {
     "data": {
      "text/plain": [
       "{'50Hz': <EIDynamics.Experiment at 0x21bbb15eb08>,\n",
       " '20Hz': <EIDynamics.Experiment at 0x21bb58c62c8>,\n",
       " '30Hz': <EIDynamics.Experiment at 0x21bbb0d28c8>,\n",
       " '40Hz': <EIDynamics.Experiment at 0x21bb55950c8>}"
      ]
     },
     "execution_count": 92,
     "metadata": {},
     "output_type": "execute_result"
    }
   ],
   "source": [
    "cell.experiment"
   ]
  },
  {
   "cell_type": "code",
   "execution_count": 93,
   "metadata": {},
   "outputs": [
    {
     "data": {
      "text/plain": [
       "192"
      ]
     },
     "execution_count": 93,
     "metadata": {},
     "output_type": "execute_result"
    }
   ],
   "source": [
    "len(cell.response)"
   ]
  },
  {
   "cell_type": "code",
   "execution_count": 94,
   "metadata": {},
   "outputs": [],
   "source": [
    "resp = cell.response"
   ]
  },
  {
   "cell_type": "code",
   "execution_count": 95,
   "metadata": {},
   "outputs": [
    {
     "data": {
      "text/html": [
       "<div>\n",
       "<style scoped>\n",
       "    .dataframe tbody tr th:only-of-type {\n",
       "        vertical-align: middle;\n",
       "    }\n",
       "\n",
       "    .dataframe tbody tr th {\n",
       "        vertical-align: top;\n",
       "    }\n",
       "\n",
       "    .dataframe thead th {\n",
       "        text-align: right;\n",
       "    }\n",
       "</style>\n",
       "<table border=\"1\" class=\"dataframe\">\n",
       "  <thead>\n",
       "    <tr style=\"text-align: right;\">\n",
       "      <th></th>\n",
       "      <th>Sweep</th>\n",
       "      <th>Repeat</th>\n",
       "      <th>Pattern</th>\n",
       "      <th>numSquares</th>\n",
       "      <th>Coords</th>\n",
       "      <th>Intensity</th>\n",
       "      <th>pulseWidth</th>\n",
       "      <th>StimFreq</th>\n",
       "      <th>EI</th>\n",
       "      <th>IR</th>\n",
       "      <th>...</th>\n",
       "      <th>10</th>\n",
       "      <th>11</th>\n",
       "      <th>12</th>\n",
       "      <th>13</th>\n",
       "      <th>14</th>\n",
       "      <th>15</th>\n",
       "      <th>16</th>\n",
       "      <th>firstPulseTime</th>\n",
       "      <th>AP</th>\n",
       "      <th>PeakResponse</th>\n",
       "    </tr>\n",
       "  </thead>\n",
       "  <tbody>\n",
       "    <tr>\n",
       "      <th>17</th>\n",
       "      <td>17</td>\n",
       "      <td>3</td>\n",
       "      <td>A</td>\n",
       "      <td>5</td>\n",
       "      <td>[197, 255, 347, 401, 439]</td>\n",
       "      <td>100</td>\n",
       "      <td>5</td>\n",
       "      <td>50</td>\n",
       "      <td>I</td>\n",
       "      <td>340.464462</td>\n",
       "      <td>...</td>\n",
       "      <td>17.80</td>\n",
       "      <td>9.80</td>\n",
       "      <td>3.40</td>\n",
       "      <td>7.10</td>\n",
       "      <td>2.85</td>\n",
       "      <td>5.15</td>\n",
       "      <td>13.00</td>\n",
       "      <td>9.10</td>\n",
       "      <td>False</td>\n",
       "      <td>52.706905</td>\n",
       "    </tr>\n",
       "    <tr>\n",
       "      <th>15</th>\n",
       "      <td>15</td>\n",
       "      <td>2</td>\n",
       "      <td>G</td>\n",
       "      <td>15</td>\n",
       "      <td>[101, 109, 117, 147, 155, 197, 305, 309, 339, ...</td>\n",
       "      <td>100</td>\n",
       "      <td>5</td>\n",
       "      <td>50</td>\n",
       "      <td>E</td>\n",
       "      <td>173.622787</td>\n",
       "      <td>...</td>\n",
       "      <td>7.70</td>\n",
       "      <td>8.55</td>\n",
       "      <td>8.50</td>\n",
       "      <td>7.55</td>\n",
       "      <td>11.55</td>\n",
       "      <td>9.00</td>\n",
       "      <td>13.75</td>\n",
       "      <td>9.90</td>\n",
       "      <td>False</td>\n",
       "      <td>-60.877075</td>\n",
       "    </tr>\n",
       "    <tr>\n",
       "      <th>2</th>\n",
       "      <td>2</td>\n",
       "      <td>1</td>\n",
       "      <td>B</td>\n",
       "      <td>5</td>\n",
       "      <td>[201, 293, 351, 355, 443]</td>\n",
       "      <td>100</td>\n",
       "      <td>5</td>\n",
       "      <td>20</td>\n",
       "      <td>I</td>\n",
       "      <td>371.170014</td>\n",
       "      <td>...</td>\n",
       "      <td>20.05</td>\n",
       "      <td>3.65</td>\n",
       "      <td>23.65</td>\n",
       "      <td>43.35</td>\n",
       "      <td>6.95</td>\n",
       "      <td>38.35</td>\n",
       "      <td>29.70</td>\n",
       "      <td>6.25</td>\n",
       "      <td>False</td>\n",
       "      <td>21.046139</td>\n",
       "    </tr>\n",
       "    <tr>\n",
       "      <th>11</th>\n",
       "      <td>11</td>\n",
       "      <td>2</td>\n",
       "      <td>C</td>\n",
       "      <td>5</td>\n",
       "      <td>[205, 251, 297, 389, 447]</td>\n",
       "      <td>100</td>\n",
       "      <td>5</td>\n",
       "      <td>30</td>\n",
       "      <td>E</td>\n",
       "      <td>163.499920</td>\n",
       "      <td>...</td>\n",
       "      <td>11.90</td>\n",
       "      <td>13.55</td>\n",
       "      <td>11.80</td>\n",
       "      <td>6.75</td>\n",
       "      <td>14.20</td>\n",
       "      <td>18.95</td>\n",
       "      <td>15.25</td>\n",
       "      <td>12.10</td>\n",
       "      <td>False</td>\n",
       "      <td>-50.722656</td>\n",
       "    </tr>\n",
       "    <tr>\n",
       "      <th>9</th>\n",
       "      <td>9</td>\n",
       "      <td>2</td>\n",
       "      <td>A</td>\n",
       "      <td>5</td>\n",
       "      <td>[197, 255, 347, 401, 439]</td>\n",
       "      <td>100</td>\n",
       "      <td>5</td>\n",
       "      <td>20</td>\n",
       "      <td>E</td>\n",
       "      <td>229.672027</td>\n",
       "      <td>...</td>\n",
       "      <td>6.10</td>\n",
       "      <td>38.65</td>\n",
       "      <td>21.05</td>\n",
       "      <td>34.15</td>\n",
       "      <td>45.35</td>\n",
       "      <td>25.25</td>\n",
       "      <td>48.95</td>\n",
       "      <td>33.90</td>\n",
       "      <td>False</td>\n",
       "      <td>-17.291855</td>\n",
       "    </tr>\n",
       "    <tr>\n",
       "      <th>8</th>\n",
       "      <td>8</td>\n",
       "      <td>1</td>\n",
       "      <td>H</td>\n",
       "      <td>15</td>\n",
       "      <td>[151, 163, 197, 201, 209, 213, 259, 301, 339, ...</td>\n",
       "      <td>100</td>\n",
       "      <td>5</td>\n",
       "      <td>20</td>\n",
       "      <td>I</td>\n",
       "      <td>353.701869</td>\n",
       "      <td>...</td>\n",
       "      <td>9.75</td>\n",
       "      <td>11.20</td>\n",
       "      <td>16.75</td>\n",
       "      <td>0.20</td>\n",
       "      <td>16.50</td>\n",
       "      <td>44.20</td>\n",
       "      <td>20.35</td>\n",
       "      <td>9.65</td>\n",
       "      <td>False</td>\n",
       "      <td>320.870331</td>\n",
       "    </tr>\n",
       "    <tr>\n",
       "      <th>15</th>\n",
       "      <td>15</td>\n",
       "      <td>2</td>\n",
       "      <td>G</td>\n",
       "      <td>15</td>\n",
       "      <td>[101, 109, 117, 147, 155, 197, 305, 309, 339, ...</td>\n",
       "      <td>100</td>\n",
       "      <td>5</td>\n",
       "      <td>40</td>\n",
       "      <td>I</td>\n",
       "      <td>293.994183</td>\n",
       "      <td>...</td>\n",
       "      <td>11.35</td>\n",
       "      <td>0.05</td>\n",
       "      <td>0.25</td>\n",
       "      <td>12.90</td>\n",
       "      <td>10.50</td>\n",
       "      <td>0.55</td>\n",
       "      <td>22.65</td>\n",
       "      <td>9.25</td>\n",
       "      <td>False</td>\n",
       "      <td>293.204315</td>\n",
       "    </tr>\n",
       "    <tr>\n",
       "      <th>16</th>\n",
       "      <td>16</td>\n",
       "      <td>2</td>\n",
       "      <td>H</td>\n",
       "      <td>15</td>\n",
       "      <td>[151, 163, 197, 201, 209, 213, 259, 301, 339, ...</td>\n",
       "      <td>100</td>\n",
       "      <td>5</td>\n",
       "      <td>20</td>\n",
       "      <td>I</td>\n",
       "      <td>331.750601</td>\n",
       "      <td>...</td>\n",
       "      <td>9.40</td>\n",
       "      <td>11.25</td>\n",
       "      <td>11.15</td>\n",
       "      <td>22.50</td>\n",
       "      <td>24.65</td>\n",
       "      <td>17.60</td>\n",
       "      <td>17.20</td>\n",
       "      <td>10.90</td>\n",
       "      <td>False</td>\n",
       "      <td>367.626923</td>\n",
       "    </tr>\n",
       "    <tr>\n",
       "      <th>7</th>\n",
       "      <td>7</td>\n",
       "      <td>1</td>\n",
       "      <td>G</td>\n",
       "      <td>15</td>\n",
       "      <td>[101, 109, 117, 147, 155, 197, 305, 309, 339, ...</td>\n",
       "      <td>100</td>\n",
       "      <td>5</td>\n",
       "      <td>50</td>\n",
       "      <td>I</td>\n",
       "      <td>289.354970</td>\n",
       "      <td>...</td>\n",
       "      <td>9.50</td>\n",
       "      <td>9.65</td>\n",
       "      <td>9.90</td>\n",
       "      <td>3.15</td>\n",
       "      <td>0.05</td>\n",
       "      <td>11.85</td>\n",
       "      <td>10.60</td>\n",
       "      <td>8.65</td>\n",
       "      <td>False</td>\n",
       "      <td>294.970673</td>\n",
       "    </tr>\n",
       "    <tr>\n",
       "      <th>9</th>\n",
       "      <td>9</td>\n",
       "      <td>2</td>\n",
       "      <td>A</td>\n",
       "      <td>5</td>\n",
       "      <td>[197, 255, 347, 401, 439]</td>\n",
       "      <td>100</td>\n",
       "      <td>5</td>\n",
       "      <td>20</td>\n",
       "      <td>I</td>\n",
       "      <td>349.685746</td>\n",
       "      <td>...</td>\n",
       "      <td>42.75</td>\n",
       "      <td>3.20</td>\n",
       "      <td>32.45</td>\n",
       "      <td>10.60</td>\n",
       "      <td>44.75</td>\n",
       "      <td>7.45</td>\n",
       "      <td>16.90</td>\n",
       "      <td>3.00</td>\n",
       "      <td>False</td>\n",
       "      <td>29.918209</td>\n",
       "    </tr>\n",
       "  </tbody>\n",
       "</table>\n",
       "<p>10 rows × 29 columns</p>\n",
       "</div>"
      ],
      "text/plain": [
       "   Sweep  Repeat Pattern numSquares  \\\n",
       "17    17       3       A          5   \n",
       "15    15       2       G         15   \n",
       "2      2       1       B          5   \n",
       "11    11       2       C          5   \n",
       "9      9       2       A          5   \n",
       "8      8       1       H         15   \n",
       "15    15       2       G         15   \n",
       "16    16       2       H         15   \n",
       "7      7       1       G         15   \n",
       "9      9       2       A          5   \n",
       "\n",
       "                                               Coords  Intensity  pulseWidth  \\\n",
       "17                          [197, 255, 347, 401, 439]        100           5   \n",
       "15  [101, 109, 117, 147, 155, 197, 305, 309, 339, ...        100           5   \n",
       "2                           [201, 293, 351, 355, 443]        100           5   \n",
       "11                          [205, 251, 297, 389, 447]        100           5   \n",
       "9                           [197, 255, 347, 401, 439]        100           5   \n",
       "8   [151, 163, 197, 201, 209, 213, 259, 301, 339, ...        100           5   \n",
       "15  [101, 109, 117, 147, 155, 197, 305, 309, 339, ...        100           5   \n",
       "16  [151, 163, 197, 201, 209, 213, 259, 301, 339, ...        100           5   \n",
       "7   [101, 109, 117, 147, 155, 197, 305, 309, 339, ...        100           5   \n",
       "9                           [197, 255, 347, 401, 439]        100           5   \n",
       "\n",
       "    StimFreq EI          IR  ...     10     11     12     13     14     15  \\\n",
       "17        50  I  340.464462  ...  17.80   9.80   3.40   7.10   2.85   5.15   \n",
       "15        50  E  173.622787  ...   7.70   8.55   8.50   7.55  11.55   9.00   \n",
       "2         20  I  371.170014  ...  20.05   3.65  23.65  43.35   6.95  38.35   \n",
       "11        30  E  163.499920  ...  11.90  13.55  11.80   6.75  14.20  18.95   \n",
       "9         20  E  229.672027  ...   6.10  38.65  21.05  34.15  45.35  25.25   \n",
       "8         20  I  353.701869  ...   9.75  11.20  16.75   0.20  16.50  44.20   \n",
       "15        40  I  293.994183  ...  11.35   0.05   0.25  12.90  10.50   0.55   \n",
       "16        20  I  331.750601  ...   9.40  11.25  11.15  22.50  24.65  17.60   \n",
       "7         50  I  289.354970  ...   9.50   9.65   9.90   3.15   0.05  11.85   \n",
       "9         20  I  349.685746  ...  42.75   3.20  32.45  10.60  44.75   7.45   \n",
       "\n",
       "       16  firstPulseTime     AP  PeakResponse  \n",
       "17  13.00            9.10  False     52.706905  \n",
       "15  13.75            9.90  False    -60.877075  \n",
       "2   29.70            6.25  False     21.046139  \n",
       "11  15.25           12.10  False    -50.722656  \n",
       "9   48.95           33.90  False    -17.291855  \n",
       "8   20.35            9.65  False    320.870331  \n",
       "15  22.65            9.25  False    293.204315  \n",
       "16  17.20           10.90  False    367.626923  \n",
       "7   10.60            8.65  False    294.970673  \n",
       "9   16.90            3.00  False     29.918209  \n",
       "\n",
       "[10 rows x 29 columns]"
      ]
     },
     "execution_count": 95,
     "metadata": {},
     "output_type": "execute_result"
    }
   ],
   "source": [
    "resp.sample(10)"
   ]
  },
  {
   "cell_type": "code",
   "execution_count": 96,
   "metadata": {},
   "outputs": [],
   "source": [
    "with open(cellFile,\"wb\") as f:\n",
    "    pickle.dump(resp, f)"
   ]
  },
  {
   "cell_type": "markdown",
   "metadata": {},
   "source": [
    "# Plots\n",
    "plt.figure()\n",
    "plotMaker(cellFile,ploty=\"peakTime\",plotby=\"Pattern\")"
   ]
  },
  {
   "cell_type": "code",
   "execution_count": 97,
   "metadata": {},
   "outputs": [
    {
     "data": {
      "application/javascript": [
       "\n",
       "        if (window._pyforest_update_imports_cell) { window._pyforest_update_imports_cell('import matplotlib.pyplot as plt'); }\n",
       "    "
      ],
      "text/plain": [
       "<IPython.core.display.Javascript object>"
      ]
     },
     "metadata": {},
     "output_type": "display_data"
    },
    {
     "data": {
      "text/plain": [
       "<Figure size 432x288 with 0 Axes>"
      ]
     },
     "metadata": {},
     "output_type": "display_data"
    },
    {
     "data": {
      "text/plain": [
       "<Figure size 432x288 with 0 Axes>"
      ]
     },
     "metadata": {},
     "output_type": "display_data"
    },
    {
     "data": {
      "image/png": "[encoded data removed]",
      "text/plain": [
       "<Figure size 864x432 with 8 Axes>"
      ]
     },
     "metadata": {
      "needs_background": "light"
     },
     "output_type": "display_data"
    }
   ],
   "source": [
    "# Plots\n",
    "plt.figure()\n",
    "plotMaker(cellFile,ploty=\"peakRes\",plotby=\"EI\")"
   ]
  },
  {
   "cell_type": "code",
   "execution_count": null,
   "metadata": {},
   "outputs": [],
   "source": []
  },
  {
   "cell_type": "code",
   "execution_count": null,
   "metadata": {},
   "outputs": [],
   "source": []
  }
 ],
 "metadata": {
  "kernelspec": {
   "display_name": "venv-lab",
   "language": "python",
   "name": "venv-lab"
  },
  "language_info": {
   "codemirror_mode": {
    "name": "ipython",
    "version": 3
   },
   "file_extension": ".py",
   "mimetype": "text/x-python",
   "name": "python",
   "nbconvert_exporter": "python",
   "pygments_lexer": "ipython3",
   "version": "3.7.9"
  }
 },
 "nbformat": 4,
 "nbformat_minor": 4
}
