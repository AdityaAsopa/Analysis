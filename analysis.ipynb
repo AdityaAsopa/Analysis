{
 "cells": [
  {
   "cell_type": "code",
   "execution_count": null,
   "metadata": {},
   "outputs": [],
   "source": [
    "\"\"\"\n",
    "Created on Friday 12th March 2021\n",
    "@author: Aditya Asopa, Bhalla Lab, NCBS\n",
    "\"\"\"\n",
    "## Import libraries\n",
    "from eiDynamics import plotMaker\n",
    "import sys\n",
    "import os\n",
    "import imp\n",
    "import matplotlib.pyplot as plt\n",
    "import pandas as pd\n",
    "import pickle\n",
    "import eiDynamics\n",
    "from eiDynamics import ePhysClasses\n",
    "from eiDynamics.plotMaker import plotMaker\n",
    "import seaborn as sns"
   ]
  },
  {
   "source": [
    "inputABFfile = \"C:\\\\Users\\\\adity\\\\OneDrive\\\\NCBS\\\\Lab\\\\Projects\\\\EI_Dynamics\\\\Analysis\\\\testExamples\\\\cell3191\\\\2021_05_12_0009_rec.abf\""
   ],
   "cell_type": "code",
   "metadata": {},
   "execution_count": null,
   "outputs": []
  },
  {
   "source": [
    "#Get the path\n",
    "datafile = os.path.realpath(inputABFfile)\n",
    "exptDir = os.path.dirname(datafile)\n",
    "exptFile = os.path.basename(datafile)\n",
    "fileID = exptFile.split('_rec')[0]\n",
    "epFile = exptDir + \"\\\\\" + fileID + \"_ExperimentParameters.py\"\n",
    "epFile = os.path.abspath(epFile)"
   ],
   "cell_type": "code",
   "metadata": {},
   "execution_count": null,
   "outputs": []
  },
  {
   "source": [
    "eP = imp.load_source('ExptParams',epFile)"
   ],
   "cell_type": "code",
   "metadata": {},
   "execution_count": null,
   "outputs": []
  },
  {
   "source": [
    "# Import Experiment Variables\n",
    "try:\n",
    "    print (\"Looking for experiment parameters locally\")\n",
    "    eP = imp.load_source('ExptParams',epFile)\n",
    "    assert (eP.datafile == exptFile),\"Datafile mismatch! Make sure the data file in experiment parameters is same as recording file supplied.\"\n",
    "    print('Experiment parameters loaded from: ',epFile)\n",
    "except:\n",
    "    print (\"Experiment Parameters required or data file mismatch. Quitting!\")\n",
    "    exit"
   ],
   "cell_type": "code",
   "metadata": {},
   "execution_count": null,
   "outputs": []
  },
  {
   "source": [
    "# importing stimulation coordinates\n",
    "try:\n",
    "    coordfileName = eP.polygonProtocol    \n",
    "    coordfile = os.path.join(os.getcwd(),\"polygonProtocols\",coordfileName)\n",
    "    os.path.isfile(coordfile)\n",
    "    print('Local coord file loaded from: ',coordfile)\n",
    "except:\n",
    "    print('No coord file found, probably there isn\\'t one')\n",
    "    coordfile = ''"
   ],
   "cell_type": "code",
   "metadata": {},
   "execution_count": null,
   "outputs": []
  },
  {
   "source": [
    "# Recording cell data and analyses\n",
    "cellFile = exptDir + \"\\\\\" + \"cell.pkl\"\n",
    "cellFile_csv = exptDir + \"\\\\\" + \"cell.csv\"\n",
    "print(cellFile)"
   ],
   "cell_type": "code",
   "metadata": {},
   "execution_count": null,
   "outputs": []
  },
  {
   "cell_type": "code",
   "execution_count": null,
   "metadata": {},
   "outputs": [],
   "source": [
    "cellFile = \"C:\\\\Users\\\\adity\\\\OneDrive\\\\NCBS\\\\Lab\\\\Projects\\\\EI_Dynamics\\\\Analysis\\\\testExamples\\\\cell2941\\\\cell.pkl\""
   ]
  },
  {
   "cell_type": "code",
   "execution_count": null,
   "metadata": {},
   "outputs": [],
   "source": [
    "# cell = ePhysClasses.Neuron(eP)\n",
    "try:\n",
    "    cell = ePhysClasses.Neuron.loadCell(cellFile)\n",
    "    print('Loaded local cell data')\n",
    "except:\n",
    "    print('Local cell data not found, creating new cell.')\n",
    "    cell = ePhysClasses.Neuron(eP)"
   ]
  },
  {
   "source": [
    "cell.createExperiment(datafile=datafile,coordfile=coordfile,exptParams=eP)"
   ],
   "cell_type": "code",
   "metadata": {
    "tags": []
   },
   "execution_count": null,
   "outputs": []
  },
  {
   "cell_type": "code",
   "execution_count": null,
   "metadata": {},
   "outputs": [],
   "source": [
    "len(cell.response)"
   ]
  },
  {
   "source": [
    "cell.response.to_csv(cellFile_csv)\n",
    "cell.response.to_excel(cellFile_csv)\n",
    "ePhysClasses.Neuron.saveCell(cell,cellFile)\n"
   ],
   "cell_type": "code",
   "metadata": {},
   "execution_count": null,
   "outputs": []
  },
  {
   "source": [
    "cell.experiment"
   ],
   "cell_type": "code",
   "metadata": {},
   "execution_count": null,
   "outputs": []
  },
  {
   "source": [
    "x = cell.response"
   ],
   "cell_type": "code",
   "metadata": {},
   "execution_count": null,
   "outputs": []
  },
  {
   "source": [
    "# # Plots\n",
    "plt.figure()\n",
    "fig = plotMaker(cellFile,ploty=\"peakRes\",gridRow=\"numSquares\",plotby=\"EI\",clipSpikes=True)\n",
    "fig.set(ylim=(0,20))"
   ],
   "cell_type": "code",
   "metadata": {},
   "execution_count": null,
   "outputs": []
  },
  {
   "cell_type": "code",
   "execution_count": null,
   "metadata": {},
   "outputs": [],
   "source": [
    "# # Plots\n",
    "plt.figure()\n",
    "fig = plotMaker(cellFile,ploty=\"peakRes\",gridRow=\"numSquares\",plotby=\"PatternID\",clipSpikes=True)\n",
    "fig.set(ylim=(0,20))"
   ]
  },
  {
   "cell_type": "code",
   "execution_count": null,
   "metadata": {},
   "outputs": [],
   "source": [
    "# # Plots\n",
    "plt.figure()\n",
    "fig = plotMaker(cellFile,ploty=\"peakRes\",gridRow=\"PatternID\",plotby=\"Repeat\",clipSpikes=True)\n",
    "fig.set(ylim=(0,20))"
   ]
  },
  {
   "cell_type": "code",
   "execution_count": null,
   "metadata": {},
   "outputs": [],
   "source": [
    "plotMaker(cellFile,ploty=\"peakTime\",gridRow=\"numSquares\",plotby=\"EI\",clipSpikes=True)\n",
    "plotMaker(cellFile,ploty=\"peakTime\",gridRow=\"numSquares\",plotby=\"PatternID\",clipSpikes=True)\n",
    "plotMaker(cellFile,ploty=\"peakTime\",gridRow=\"PatternID\",plotby=\"Repeat\",clipSpikes=True)\n"
   ]
  }
 ],
 "metadata": {
  "kernelspec": {
   "name": "python3",
   "display_name": "Python 3.7.9 64-bit ('venv-lab': venv)"
  },
  "language_info": {
   "codemirror_mode": {
    "name": "ipython",
    "version": 3
   },
   "file_extension": ".py",
   "mimetype": "text/x-python",
   "name": "python",
   "nbconvert_exporter": "python",
   "pygments_lexer": "ipython3",
   "version": "3.7.9"
  },
  "interpreter": {
   "hash": "efceb7404fb9811cf40b75e40bd8d8d061e2563981c73d0ff752e54aeb51c26e"
  }
 },
 "nbformat": 4,
 "nbformat_minor": 4
}