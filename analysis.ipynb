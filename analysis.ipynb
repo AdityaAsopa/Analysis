{
 "cells": [
  {
   "cell_type": "code",
   "execution_count": 1,
   "metadata": {},
   "outputs": [],
   "source": [
    "\"\"\"\n",
    "Created on Friday 12th March 2021\n",
    "@author: Aditya Asopa, Bhalla Lab, NCBS\n",
    "\"\"\"\n",
    "## Import libraries\n",
    "import sys\n",
    "import os\n",
    "import importlib\n",
    "import pathlib\n",
    "import pickle\n",
    "import numpy as np\n",
    "import matplotlib.pyplot as plt\n",
    "import pandas as pd\n",
    "import seaborn as sns\n",
    "from pathlib import Path\n",
    "\n",
    "\n",
    "from eidynamics import ephys_classes\n",
    "from eidynamics import ephys_functions\n",
    "from eidynamics import abf_to_data\n",
    "from eidynamics import plot_tools, utils\n",
    "from eidynamics.errors      import *\n",
    "\n",
    "%matplotlib widget"
   ]
  },
  {
   "cell_type": "code",
   "execution_count": null,
   "metadata": {},
   "outputs": [],
   "source": [
    "inputABFfile = Path(r\"C:\\Users\\adity\\OneDrive\\NCBS\\Lab\\Projects\\EI_Dynamics\\Data\\23-06-06_GrikAA316\\2023_06_06_0007_repeat1.abf\")\n",
    "coordpath = Path(r\"C:\\Users\\adity\\OneDrive\\NCBS\\Lab\\Projects\\EI_Dynamics\\Analysis\\polygonProtocols\\all_sq.txt\")\n",
    "# parse abf files\n",
    "cell = abf_to_data.abf_to_data(inputABFfile, exclude_channels=[3], baseline_criterion=0.1, sweep_baseline_epoch=[0, 0.15], baseline_subtraction=True, signal_scaling=1, sampling_freq=2e4, filter_type='bessel', filter_cutoff=1000,\n",
    "                data_order=\"sweepwise\", plot_data=False )\n"
   ]
  },
  {
   "cell_type": "code",
   "execution_count": 2,
   "metadata": {},
   "outputs": [],
   "source": [
    "## CC dataframe\n",
    "ccdf_path = Path(r\"C:\\Users\\adity\\OneDrive\\NCBS\\Lab\\Projects\\EI_Dynamics\\Analysis\\parsed_data\\all_cells_FreqSweep_combined_short.h5\")\n",
    "data_all = pd.read_hdf(ccdf_path)\n",
    "# identify all rows whose 'peak_cell' is not NaN\n",
    "data = data_all[ pd.notnull(data_all['peaks_cell'])]"
   ]
  }
 ],
 "metadata": {
  "kernelspec": {
   "display_name": "venv-ephys",
   "language": "python",
   "name": "venv-ephys"
  },
  "language_info": {
   "codemirror_mode": {
    "name": "ipython",
    "version": 3
   },
   "file_extension": ".py",
   "mimetype": "text/x-python",
   "name": "python",
   "nbconvert_exporter": "python",
   "pygments_lexer": "ipython3",
   "version": "3.11.4"
  }
 },
 "nbformat": 4,
 "nbformat_minor": 4
}
