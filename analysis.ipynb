{
 "cells": [
  {
   "cell_type": "code",
   "execution_count": null,
   "metadata": {},
   "outputs": [],
   "source": [
    "\"\"\"\n",
    "Created on Friday 12th March 2021\n",
    "@author: Aditya Asopa, Bhalla Lab, NCBS\n",
    "\"\"\"\n",
    "## Import libraries\n",
    "from eiDynamics import plotMaker\n",
    "import sys\n",
    "import os\n",
    "import imp\n",
    "import matplotlib.pyplot as plt\n",
    "import pandas as pd\n",
    "import pickle\n",
    "import eiDynamics\n",
    "from eiDynamics import ePhysClasses\n",
    "from eiDynamics.plotMaker import plotMaker"
   ]
  },
  {
   "cell_type": "code",
   "execution_count": null,
   "metadata": {},
   "outputs": [],
   "source": [
    "inputABFfile = \"C:\\\\Users\\\\Adity\\\\OneDrive\\\\NCBS\\\\Lab\\\\Projects\\\\EI_Dynamics\\\\Analysis\\\\testExamples\\\\2021_04_16_0000_rec.abf\""
   ]
  },
  {
   "cell_type": "code",
   "execution_count": null,
   "metadata": {},
   "outputs": [],
   "source": [
    "#Get the path\n",
    "datafile = os.path.realpath(inputABFfile)\n",
    "exptDir = os.path.dirname(datafile)\n",
    "exptFile = os.path.basename(datafile)\n",
    "fileID = exptFile.split('_rec')[0]\n",
    "epFile = exptDir + \"\\\\\" + fileID + \"_ExperimentParameters.py\"\n",
    "epFile = os.path.abspath(epFile)"
   ]
  },
  {
   "cell_type": "code",
   "execution_count": null,
   "metadata": {},
   "outputs": [],
   "source": [
    "eP = imp.load_source('ExptParams',epFile)"
   ]
  },
  {
   "cell_type": "code",
   "execution_count": null,
   "metadata": {},
   "outputs": [],
   "source": [
    "# Import Experiment Variables\n",
    "try:\n",
    "    print (\"Looking for experiment parameters locally\")\n",
    "    eP = imp.load_source('ExptParams',epFile)\n",
    "    print('Experiment parameters loaded from: ',epFile)\n",
    "    assert (eP.datafile == exptFile),\"Datafile mismatch! Make sure the data file in experiment parameters is same as recording file supplied.\"\n",
    "except:\n",
    "    print (\"Experiment Parameters required or data file mismatch. Quitting!\")\n",
    "    exit"
   ]
  },
  {
   "cell_type": "code",
   "execution_count": null,
   "metadata": {},
   "outputs": [],
   "source": [
    "# importing stimulation coordinates\n",
    "try:\n",
    "    coordfileName = eP.polygonProtocol    \n",
    "    coordfile = os.path.join(os.getcwd(),\"polygonProtocols\",coordfileName)\n",
    "    os.path.isfile(coordfile)\n",
    "    print('Local coord file loaded from: ',coordfile)\n",
    "except:\n",
    "    print('No coord file found, probably there isn\\'t one')\n",
    "    coordfile = ''"
   ]
  },
  {
   "cell_type": "code",
   "execution_count": null,
   "metadata": {},
   "outputs": [],
   "source": [
    "# Recording cell data and analyses\n",
    "cellFile = exptDir + \"\\\\\" + \"cell.pkl\"\n",
    "try:    \n",
    "    print('Loading local cell data')\n",
    "    cell = pickle.load(cellFile)\n",
    "except:\n",
    "    print('Local cell data not found, creating new cell')\n",
    "    cell = ePhysClasses.Neuron(eP)"
   ]
  },
  {
   "cell_type": "code",
   "execution_count": null,
   "metadata": {},
   "outputs": [],
   "source": [
    "cell.createExperiment(datafile=datafile,coordfile=coordfile,exptParams=eP)"
   ]
  },
  {
   "cell_type": "code",
   "execution_count": null,
   "metadata": {},
   "outputs": [],
   "source": [
    "cell.experiment"
   ]
  },
  {
   "cell_type": "code",
   "execution_count": null,
   "metadata": {},
   "outputs": [],
   "source": [
    "cell.response.sample(5)"
   ]
  },
  {
   "cell_type": "code",
   "execution_count": null,
   "metadata": {},
   "outputs": [],
   "source": [
    "# saving \n",
    "with open(cellFile,\"wb\") as f:\n",
    "    pickle.dump(cell.response, f) "
   ]
  },
  {
   "cell_type": "markdown",
   "metadata": {},
   "source": [
    "# Plots\n",
    "plt.figure()\n",
    "plotMaker(cellFile,ploty=\"peakTime\",plotby=\"Pattern\")"
   ]
  },
  {
   "cell_type": "code",
   "execution_count": null,
   "metadata": {},
   "outputs": [],
   "source": [
    "# Plots\n",
    "plt.figure()\n",
    "plotMaker(cellFile,ploty=\"peakRes\",plotby=\"EI\")"
   ]
  },
  {
   "cell_type": "code",
   "execution_count": null,
   "metadata": {},
   "outputs": [],
   "source": [
    "# Plots\n",
    "plt.figure()\n",
    "plotMaker(cellFile,ploty=\"peakTime\",plotby=\"EI\")"
   ]
  },
  {
   "cell_type": "code",
   "execution_count": null,
   "metadata": {},
   "outputs": [],
   "source": []
  }
 ],
 "metadata": {
  "kernelspec": {
   "display_name": "venv-lab",
   "language": "python",
   "name": "venv-lab"
  },
  "language_info": {
   "codemirror_mode": {
    "name": "ipython",
    "version": 3
   },
   "file_extension": ".py",
   "mimetype": "text/x-python",
   "name": "python",
   "nbconvert_exporter": "python",
   "pygments_lexer": "ipython3",
   "version": "3.7.9"
  }
 },
 "nbformat": 4,
 "nbformat_minor": 4
}