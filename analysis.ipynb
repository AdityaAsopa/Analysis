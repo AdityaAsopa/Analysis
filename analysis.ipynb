{
 "cells": [
  {
   "cell_type": "code",
   "execution_count": 1,
   "metadata": {},
   "outputs": [],
   "source": [
    "\"\"\"\n",
    "Created on Friday 12th March 2021\n",
    "@author: Aditya Asopa, Bhalla Lab, NCBS\n",
    "\"\"\"\n",
    "## Import libraries\n",
    "import sys\n",
    "import os\n",
    "import importlib\n",
    "import pathlib\n",
    "import pickle\n",
    "import matplotlib.pyplot as plt\n",
    "import pandas as pd\n",
    "import seaborn as sns\n",
    "\n",
    "from eidynamics import ephys_classes\n",
    "# from eidynamics.plot_maker import makeplots\n",
    "from eidynamics.errors      import *\n"
   ]
  },
  {
   "cell_type": "code",
   "execution_count": 2,
   "metadata": {},
   "outputs": [],
   "source": [
    "inputABFfile = \"C:\\\\Users\\\\adity\\\\OneDrive\\\\NCBS\\\\Lab\\\\Projects\\\\EI_Dynamics\\\\Analysis\\\\testExamples\\\\testCells\\\\5211\\\\2021_09_07_0005_rec.abf\"\n",
    "cell_file= '' # presaved cell pickle file, optional"
   ]
  },
  {
   "cell_type": "code",
   "execution_count": 3,
   "metadata": {},
   "outputs": [],
   "source": [
    "datafile      = pathlib.Path(inputABFfile)\n",
    "exptDir       = datafile.parent\n",
    "exptFile      = datafile.name\n",
    "fileID        = exptFile[:15]\n",
    "parameterFilePath = exptDir / str(fileID + \"_experiment_parameters.py\")\n",
    "paramfileName = parameterFilePath.stem\n",
    "parameterFilePath = parameterFilePath.parent"
   ]
  },
  {
   "cell_type": "code",
   "execution_count": 8,
   "metadata": {},
   "outputs": [
    {
     "name": "stdout",
     "output_type": "stream",
     "text": [
      "Looking for experiment parameters locally\n",
      "Experiment parameters loaded from:  C:\\Users\\adity\\OneDrive\\NCBS\\Lab\\Projects\\EI_Dynamics\\Analysis\\testExamples\\testCells\\5211\n"
     ]
    }
   ],
   "source": [
    "# Import Experiment Variables\n",
    "try:\n",
    "    print(\"Looking for experiment parameters locally\")\n",
    "    sys.path.append(str(parameterFilePath))\n",
    "    exptParams = importlib.import_module(paramfileName, parameterFilePath)\n",
    "    if not exptParams.datafile == exptFile:\n",
    "        raise FileMismatchError()\n",
    "    print('Experiment parameters loaded from: ', parameterFilePath)\n",
    "except (FileMismatchError,FileNotFoundError) as err:\n",
    "    print(err)\n",
    "    print(\"No special instructions, using default variables.\")\n",
    "    import eidynamics.experiment_parameters_default as exptParams\n",
    "    save_trial  = False\n",
    "    print('Default Experiment Parameters loaded.\\n'\n",
    "            'Experiment will not be added to the cell pickle file,\\n'\n",
    "            'only excel file of cell response will be created.')\n",
    "except Exception as err:\n",
    "    print(err)\n",
    "    print(\"Experiment Parameters error. Quitting!\")\n",
    "    sys.exit()"
   ]
  },
  {
   "cell_type": "code",
   "execution_count": null,
   "metadata": {},
   "outputs": [],
   "source": [
    " # Import stimulation coordinates\n",
    "try:\n",
    "    coordfileName   = exptParams.polygonProtocol\n",
    "    if not coordfileName:\n",
    "        raise FileNotFoundError\n",
    "    coordfile       = os.path.join(os.getcwd(), \"polygonProtocols\", coordfileName)\n",
    "    coordfile       = pathlib.Path.cwd() / \"polygonProtocols\" / coordfileName\n",
    "    # os.path.isfile(coordfile)\n",
    "    print('Local coord file loaded from: ', coordfile)\n",
    "except FileNotFoundError:\n",
    "    print('No coord file found, probably there isn\\'t one')\n",
    "    coordfile       = ''\n",
    "except Exception as err:\n",
    "    print(err)\n",
    "    coordfile       = ''"
   ]
  },
  {
   "cell_type": "code",
   "execution_count": null,
   "metadata": {},
   "outputs": [],
   "source": [
    "# loading or creating a cell object\n",
    "try:\n",
    "    print('Loading local cell data')\n",
    "    cell = ephys_classes.Neuron.loadCell(cell_file)\n",
    "except:\n",
    "    print('Error in loading from file. Creating new cell.')\n",
    "    cell = ephys_classes.Neuron(exptParams)"
   ]
  },
  {
   "cell_type": "code",
   "execution_count": null,
   "metadata": {},
   "outputs": [],
   "source": [
    "cellFile = \"C:\\\\Users\\\\adity\\\\OneDrive\\\\NCBS\\\\Lab\\\\Projects\\\\EI_Dynamics\\\\Analysis\\\\testExamples\\\\cell2941\\\\cell.pkl\""
   ]
  },
  {
   "cell_type": "code",
   "execution_count": null,
   "metadata": {
    "tags": []
   },
   "outputs": [],
   "source": [
    "cell.addExperiment(datafile=datafile, coordfile=coordfile, exptParams=exptParams)"
   ]
  },
  {
   "cell_type": "code",
   "execution_count": null,
   "metadata": {},
   "outputs": [],
   "source": [
    "cell_file_pickle     = exptDir / str(str(exptParams.cellID) + \"_temp.pkl\")\n",
    "cell_file_csv        = exptDir / str(str(exptParams.cellID) + \"_temp.xlsx\")"
   ]
  },
  {
   "cell_type": "code",
   "execution_count": null,
   "metadata": {},
   "outputs": [],
   "source": [
    "ephys_classes.Neuron.saveCell(cell, cell_file_pickle)\n",
    "cell.response.to_excel(cell_file_csv)"
   ]
  }
 ],
 "metadata": {
  "interpreter": {
   "hash": "efceb7404fb9811cf40b75e40bd8d8d061e2563981c73d0ff752e54aeb51c26e"
  },
  "kernelspec": {
   "display_name": "Python 3.7.9 64-bit ('venv-lab': venv)",
   "name": "python3"
  },
  "language_info": {
   "codemirror_mode": {
    "name": "ipython",
    "version": 3
   },
   "file_extension": ".py",
   "mimetype": "text/x-python",
   "name": "python",
   "nbconvert_exporter": "python",
   "pygments_lexer": "ipython3",
   "version": "3.7.9"
  }
 },
 "nbformat": 4,
 "nbformat_minor": 4
}
