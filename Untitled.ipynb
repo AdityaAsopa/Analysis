{
 "cells": [
  {
   "cell_type": "code",
   "execution_count": 1,
   "id": "829bed63",
   "metadata": {},
   "outputs": [],
   "source": [
    "import matplotlib.pyplot as plt\n",
    "import numpy as np\n",
    "import pandas as pd\n",
    "import seaborn as sns\n",
    "from eiDynamics import abf2data\n",
    "from eiDynamics import ExperimentParameters_Default as eP"
   ]
  },
  {
   "source": [
    "This file is a running buildup for a pipeline to extract recording data from abf files, and training a model (GLM or NN) on them."
   ],
   "cell_type": "markdown",
   "metadata": {}
  },
  {
   "cell_type": "code",
   "execution_count": 2,
   "metadata": {},
   "outputs": [],
   "source": [
    "def a2d(abfFile,*argv):\n",
    "    if argv:\n",
    "        ep = argv[0]\n",
    "        print(ep.animalID)\n",
    "    print(abfFile)"
   ]
  },
  {
   "cell_type": "code",
   "execution_count": 5,
   "id": "9d0ffd32",
   "metadata": {},
   "outputs": [
    {
     "output_type": "stream",
     "name": "stdout",
     "text": [
      "Loading ABF file\n",
      "Something wrong with ep Params or not supplied. Using default.\n",
      "[[59.3353]\n",
      " [41.9763]\n",
      " [40.658 ]\n",
      " ...\n",
      " [49.2273]\n",
      " [50.6964]\n",
      " [48.83  ]]\n",
      "Datafile has 24 sweeps in 6 channels: \n",
      " Ch0: Cell, \n",
      " Ch1: FrameTTL, \n",
      " Ch2: Photodiode, \n",
      " Ch3: Field, \n",
      " Time: Time Axis, \n",
      " cmd: Ch0 Command Signal\n"
     ]
    }
   ],
   "source": [
    "# Loading a test abf file\n",
    "abfFile = \"C:\\\\Users\\\\Adity\\\\OneDrive\\\\NCBS\\\\Lab\\\\Projects\\\\EI_Dynamics\\\\Analysis\\\\testExamples\\\\2021_04_16_0000_rec.abf\"\n",
    "data = abf2data.abf2data(abfFile)"
   ]
  },
  {
   "cell_type": "code",
   "execution_count": 7,
   "metadata": {},
   "outputs": [
    {
     "output_type": "execute_result",
     "data": {
      "text/plain": [
       "False"
      ]
     },
     "metadata": {},
     "execution_count": 7
    }
   ],
   "source": [
    "data[2]"
   ]
  },
  {
   "cell_type": "code",
   "execution_count": 10,
   "metadata": {},
   "outputs": [
    {
     "output_type": "stream",
     "name": "stdout",
     "text": [
      "data achha hai!\n"
     ]
    }
   ],
   "source": [
    "if data[2]:\n",
    "    print(\"data kharab hai!\")\n",
    "else:\n",
    "    print(\"data achha hai!\")"
   ]
  },
  {
   "cell_type": "code",
   "execution_count": 24,
   "metadata": {},
   "outputs": [],
   "source": [
    "y_train = np.ndarray([24,600])\n",
    "x_train = np.ndarray([24,600])\n",
    "recData = data[0]\n",
    "for swp in recData.keys():\n",
    "    y_train[swp] = recData[swp][0][216*20:816*20:20]\n",
    "    x_train[swp] = recData[swp][2][216*20:816*20:20]\n"
   ]
  },
  {
   "cell_type": "code",
   "execution_count": 27,
   "metadata": {},
   "outputs": [
    {
     "output_type": "execute_result",
     "data": {
      "text/plain": [
       "(24, 600)"
      ]
     },
     "metadata": {},
     "execution_count": 27
    }
   ],
   "source": []
  },
  {
   "cell_type": "code",
   "execution_count": null,
   "metadata": {},
   "outputs": [],
   "source": []
  }
 ],
 "metadata": {
  "kernelspec": {
   "display_name": "venv-lab",
   "language": "python",
   "name": "venv-lab"
  }
 },
 "nbformat": 4,
 "nbformat_minor": 5
}